{
 "cells": [
  {
   "cell_type": "markdown",
   "metadata": {},
   "source": [
    "# *K*-Means Clustering"
   ]
  },
  {
   "cell_type": "markdown",
   "metadata": {},
   "source": [
    "$K$-means clustering is a simple and elegant approach for partitioning a data set into $K$ distinct, non-overlapping clusters. To perform $K$-means clustering, we must first specify the desired number of clusters $K$; then the $K$-means algorithm will assign each observation to exactly one of the $K$ clusters."
   ]
  },
  {
   "cell_type": "code",
   "execution_count": 25,
   "metadata": {},
   "outputs": [
    {
     "data": {
      "text/html": [
       "<table>\n",
       "<caption>A data.frame: 6 × 5</caption>\n",
       "<thead>\n",
       "\t<tr><th scope=col>open</th><th scope=col>inf</th><th scope=col>pcinc</th><th scope=col>land</th><th scope=col>oil.1</th></tr>\n",
       "\t<tr><th scope=col>&lt;dbl&gt;</th><th scope=col>&lt;dbl&gt;</th><th scope=col>&lt;int&gt;</th><th scope=col>&lt;dbl&gt;</th><th scope=col>&lt;dbl&gt;</th></tr>\n",
       "</thead>\n",
       "<tbody>\n",
       "\t<tr><td>31.4</td><td>  9.9</td><td>1998</td><td> 919595</td><td>0</td></tr>\n",
       "\t<tr><td> 9.4</td><td>117.0</td><td>4342</td><td>1072067</td><td>0</td></tr>\n",
       "\t<tr><td>16.7</td><td>  9.5</td><td>8349</td><td>2966150</td><td>0</td></tr>\n",
       "\t<tr><td>35.6</td><td>  5.0</td><td>8230</td><td>  32375</td><td>0</td></tr>\n",
       "\t<tr><td>91.0</td><td>  4.8</td><td>9185</td><td>    240</td><td>1</td></tr>\n",
       "\t<tr><td>17.0</td><td> 12.9</td><td> 540</td><td>  55598</td><td>0</td></tr>\n",
       "</tbody>\n",
       "</table>\n"
      ],
      "text/latex": [
       "A data.frame: 6 × 5\n",
       "\\begin{tabular}{r|lllll}\n",
       " open & inf & pcinc & land & oil.1\\\\\n",
       " <dbl> & <dbl> & <int> & <dbl> & <dbl>\\\\\n",
       "\\hline\n",
       "\t 31.4 &   9.9 & 1998 &  919595 & 0\\\\\n",
       "\t  9.4 & 117.0 & 4342 & 1072067 & 0\\\\\n",
       "\t 16.7 &   9.5 & 8349 & 2966150 & 0\\\\\n",
       "\t 35.6 &   5.0 & 8230 &   32375 & 0\\\\\n",
       "\t 91.0 &   4.8 & 9185 &     240 & 1\\\\\n",
       "\t 17.0 &  12.9 &  540 &   55598 & 0\\\\\n",
       "\\end{tabular}\n"
      ],
      "text/markdown": [
       "\n",
       "A data.frame: 6 × 5\n",
       "\n",
       "| open &lt;dbl&gt; | inf &lt;dbl&gt; | pcinc &lt;int&gt; | land &lt;dbl&gt; | oil.1 &lt;dbl&gt; |\n",
       "|---|---|---|---|---|\n",
       "| 31.4 |   9.9 | 1998 |  919595 | 0 |\n",
       "|  9.4 | 117.0 | 4342 | 1072067 | 0 |\n",
       "| 16.7 |   9.5 | 8349 | 2966150 | 0 |\n",
       "| 35.6 |   5.0 | 8230 |   32375 | 0 |\n",
       "| 91.0 |   4.8 | 9185 |     240 | 1 |\n",
       "| 17.0 |  12.9 |  540 |   55598 | 0 |\n",
       "\n"
      ],
      "text/plain": [
       "  open inf   pcinc land    oil.1\n",
       "1 31.4   9.9 1998   919595 0    \n",
       "2  9.4 117.0 4342  1072067 0    \n",
       "3 16.7   9.5 8349  2966150 0    \n",
       "4 35.6   5.0 8230    32375 0    \n",
       "5 91.0   4.8 9185      240 1    \n",
       "6 17.0  12.9  540    55598 0    "
      ]
     },
     "metadata": {},
     "output_type": "display_data"
    }
   ],
   "source": [
    "## installing the 'wooldridge' package if not previously installed\n",
    "if (!require(wooldridge)) install.packages('wooldridge')\n",
    "\n",
    "data(openness)\n",
    "\n",
    "##  Obs:   114\n",
    "\n",
    "## 1. open                     imports as % GDP, '73-\n",
    "## 2. inf                      avg. annual inflation, '73-\n",
    "## 3. pcinc                    1980 per capita inc., U.S. \n",
    "## 4. land                     land area, square miles\n",
    "## 5. oil                      =1 if major oil producer\n",
    "## 6. good                     =1 if 'good' data\n",
    "## 7. lpcinc                   log(pcinc)\n",
    "## 8. lland                    log(land)\n",
    "## 9. lopen                    log(open)\n",
    "## 10. linf                    log(inf)\n",
    "## 11. opendec                 open/100\n",
    "## 12. linfdec                 log(inf/100)\n",
    "\n",
    "openness.copy <- openness\n",
    "openness.copy$oil <- as.factor(openness.copy$oil)\n",
    "\n",
    "## for easy data manipulation and visualization\n",
    "if (!require(caret)) install.packages('caret')\n",
    "library(caret)\n",
    "\n",
    "## creating dummy variable for oil==1 and dropping dummy y81==0\n",
    "dmy <- dummyVars(\" ~ oil\", data = openness.copy, fullRank=T)\n",
    "datos <- subset(openness.copy, select=c(\"open\",\"inf\",\"pcinc\",\"land\"))\n",
    "datos <- cbind(datos,data.frame(predict(dmy, newdata = openness.copy)))\n",
    "head(datos)\n",
    "\n",
    "## pre-processing the data\n",
    "mydatos <- scale(subset(datos,select=c(\"open\",\"inf\")))"
   ]
  },
  {
   "cell_type": "markdown",
   "metadata": {},
   "source": [
    "The $K$-means clustering procedure results from a simple and intuitive mathematical problem.We begin by defining some notation. Let $C_1,\\ldots , C_K$ denote sets containing the indices of the observations in each cluster. These sets satisfy two properties:\n",
    "\n",
    "1. $C_{1} \\cup C_{2} \\cup \\ldots \\cup C_{K}=\\{1, \\ldots, n\\}$. In other words, each observation belongs to at least one of the $K$ clusters.\n",
    "\n",
    "2. $C_{k} \\cap C_{k^{\\prime}}=\\{\\emptyset\\}$ for all $k \\neq k^{\\prime}$. In other words, the clusters are non-overlapping: no observation belongs to more than one cluster.\n",
    "\n",
    "For instance, if the $i$th observation is in the $k$ th cluster, then $i \\in C_{k}$. The idea behind $K$ -means clustering is that a good clustering is one for which the within-cluster variation is as small as possible. The within-cluster variation for cluster $C_{k}$ is a measure $W\\left(C_{k}\\right)$ of the amount by which the observations within a cluster differ from each other. Hence we want to solve the problem\n",
    "\n",
    "$$\n",
    "\\underset{C_{1}, \\ldots, C_{K}}{\\operatorname{minimize}}\\left\\{\\sum_{k=1}^{K} W\\left(C_{k}\\right)\\right\\}.\n",
    "$$\n",
    "\n",
    "In words, this formula says that we want to partition the observations into $K$ clusters such that the total within-cluster variation, summed over all $K$ clusters, is as small as possible. Solving this last equation seems like a reasonable idea, but in order to make it actionable we need to define the within-cluster variation. There are many possible ways to define this concept, but by far the most common choice involves squared Euclidean distance. That is, we define\n",
    "\n",
    "$$\n",
    "W\\left(C_{k}\\right)=\\frac{1}{\\left|C_{k}\\right|} \\sum_{i, i^{\\prime} \\in C_{k}} \\sum_{j=1}^{p}\\left(x_{i j}-x_{i^{\\prime} j}\\right)^{2},\n",
    "$$\n",
    "\n",
    "where $p=\\text{dim}(x_{i j})$, and $\\left|C_{k}\\right|$ denotes the number of observations in the $k$ th cluster. In other words, the within-cluster variation for the $k$th cluster is the sum of all of\n",
    "the pairwise squared [Euclidean distances](https://en.wikipedia.org/wiki/Euclidean_distance) between the observations in the $k$th cluster, divided by the total number of observations in the $k$th cluster. Therefore\n",
    "\n",
    "$$\n",
    "\\underset{C_{1}, \\ldots, C_{K}}{\\operatorname{minimize}}\\left\\{\\sum_{k=1}^{K} \\frac{1}{\\left|C_{k}\\right|} \\sum_{i, i^{\\prime} \\in C_{k}} \\sum_{j=1}^{p}\\left(x_{i j}-x_{i^{\\prime} j}\\right)^{2}\\right\\}\n",
    "$$"
   ]
  },
  {
   "cell_type": "markdown",
   "metadata": {},
   "source": [
    "***\n",
    "**Algorithm**: <ins>_K_ Means Clustering</ins>\n",
    "\n",
    "1. Randomly assign a number, from 1 to K, to each of the observations. These serve as initial cluster assignments for the observations.\n",
    "\n",
    "2. Iterate until the cluster assignments stop changing:\n",
    " 1. For each of the $K$ clusters, compute the cluster centroid. The $k$th cluster centroid is the vector of the $p$ feature means for the observations in the $k$th cluster.\n",
    " 2. Assign each observation to the cluster whose centroid is closest (where closest is defined using Euclidean distance)."
   ]
  },
  {
   "cell_type": "code",
   "execution_count": null,
   "metadata": {},
   "outputs": [],
   "source": [
    "## K-means: Compute and visualize K-means clustering\n",
    "set.seed(42)\n",
    "clusters <- kmeans(mydatos,3,nstart = 50)\n",
    "str(clusters)\n",
    "\n",
    "## Save the cluster number in the dataset as column 'type'\n",
    "datos$type <- as.factor(clusters$cluster)\n",
    "head(datos)"
   ]
  },
  {
   "cell_type": "code",
   "execution_count": null,
   "metadata": {},
   "outputs": [],
   "source": [
    "## installing the 'factoextra' package if not previously installed\n",
    "if (!require(factoextra)) install.packages('factoextra')\n",
    "\n",
    "## visualizing the results\n",
    "fviz_cluster(clusters,data=mydatos,palette=\"jco\",ggtheme=theme_minimal())"
   ]
  },
  {
   "cell_type": "code",
   "execution_count": null,
   "metadata": {},
   "outputs": [],
   "source": [
    "## Determining a data-driven optimal number of clusters\n",
    "fviz_nbclust(mydatos,kmeans,method=\"silhouette\")"
   ]
  },
  {
   "cell_type": "code",
   "execution_count": 52,
   "metadata": {},
   "outputs": [
    {
     "data": {
      "text/html": [
       "3.46679515073291"
      ],
      "text/latex": [
       "3.46679515073291"
      ],
      "text/markdown": [
       "3.46679515073291"
      ],
      "text/plain": [
       "[1] 3.466795"
      ]
     },
     "metadata": {},
     "output_type": "display_data"
    },
    {
     "data": {
      "image/png": "[encoded data removed]",
      "text/plain": [
       "Plot with title \"\""
      ]
     },
     "metadata": {},
     "output_type": "display_data"
    }
   ],
   "source": [
    "## installing the 'flexclust' package if not previously installed\n",
    "if (!require(flexclust)) install.packages('flexclust')\n",
    "\n",
    "#Perform k-means clustering\n",
    "knum=3 #Set desired number of clusters\n",
    "kres=kcca(mydatos,k=knum, family=kccaFamily(\"kmeans\", dist=\"Euclidian\", cent=\"mean\"))\n",
    "\n",
    "#sum(info(kres,which=\"av_dist\"))\n",
    "\n",
    "#plot solution\n",
    "plot(x=datos$open, y=datos$inf,\n",
    "     xlab=\"Imports as % GDP\", ylab=\"avg. annual inflation\",\n",
    "     main=\"\", type=\"n\",las=1)\n",
    "colors=rainbow(knum)[kres@cluster]\n",
    "points(x=datos$open, y=datos$inf, cex=1.1, col=colors, pch=20)\n"
   ]
  },
  {
   "cell_type": "code",
   "execution_count": 49,
   "metadata": {},
   "outputs": [
    {
     "ename": "ERROR",
     "evalue": "Error in .local(object, which, ...): Requested info not available, use 'which=\"help\"' to list available infos.\n",
     "output_type": "error",
     "traceback": [
      "Error in .local(object, which, ...): Requested info not available, use 'which=\"help\"' to list available infos.\nTraceback:\n",
      "1. info(kres, \"avg_dist\")",
      "2. info(kres, \"avg_dist\")",
      "3. .local(object, which, ...)",
      "4. stop(paste(\"Requested info not available, use\", sQuote(paste(\"which=\", \n .     dQuote(\"help\"), sep = \"\")), \"to list available infos.\"))"
     ]
    },
    {
     "data": {
      "image/png": "[encoded data removed]",
      "text/plain": [
       "Plot with title \"\""
      ]
     },
     "metadata": {},
     "output_type": "display_data"
    }
   ],
   "source": [
    "#Perform k-means clustering\n",
    "knum=3 #Set desired number of clusters\n",
    "kres=kcca(mydatos,k=knum, family=kccaFamily(\"kmeans\", dist=\"distCor\", cent=\"mean\"))\n",
    "\n",
    "#plot solution\n",
    "plot(x=datos$open, y=datos$inf,\n",
    "     xlab=\"Imports as % GDP\", ylab=\"avg. annual inflation\",\n",
    "     main=\"\", type=\"n\",las=1)\n",
    "colors=rainbow(knum)[kres@cluster]\n",
    "points(x=datos$open, y=datos$inf, cex=1.1, col=colors, pch=20)\n",
    "\n",
    "info(kres,\"avg_dist\")"
   ]
  },
  {
   "cell_type": "code",
   "execution_count": 69,
   "metadata": {},
   "outputs": [
    {
     "name": "stdout",
     "output_type": "stream",
     "text": [
      "2 : * * * * * * * * * * * * * * * * * * * * * * * * *\n",
      "3 : * * * * * * * * * * * * * * * * * * * * * * * * *\n",
      "4 : * * * * * * * * * * * * * * * * * * * * * * * * *\n",
      "5 : * * * * * * * * * * * * * * * * * * * * * * * * *\n",
      "6 : * * * * * * * * * * * * * * * * * * * * * * * * *\n",
      "7 : * * * * * * * * * * * * * * * * * * * * * * * * *\n",
      "8 : * * * * * * * * * * * * * * * * * * * * * * * * *\n",
      "9 : * * * * * * * * * * * * * * * * * * * * * * * * *\n",
      "10 : * * * * * * * * * * * * * * * * * * * * * * * * *\n",
      "11 : * * * * * * * * * * * * * * * * * * * * * * * * *\n",
      "12 : * * * * * * * * * * * * * * * * * * * * * * * * *\n",
      "13 : * * * * * * * * * * * * * * * * * * * * * * * * *\n",
      "14 : * * * * * * * * * * * * * * * * * * * * * * * * *\n",
      "15 : * * * * * * * * * * * * * * * * * * * * * * * * *\n",
      "2 : * * * * * * * * * * * * * * * * * * * * * * * * *\n",
      "3 : * * * * * * * * * * * * * * * * * * * * * * * * *\n",
      "4 : * * * * * * * * * * * * * * * * * * * * * * * * *\n",
      "5 : * * * * * * * * * * * * * * * * * * * * * * * * *\n",
      "6 : * * * * * * * * * * * * * * * * * * * * * * * * *\n",
      "7 : * * * * * * * * * * * * * * * * * * * * * * * * *\n",
      "8 : * * * * * * * * * * * * * * * * * * * * * * * * *\n",
      "9 : * * * * * * * * * * * * * * * * * * * * * * * * *\n",
      "10 : * * * * * * * * * * * * * * * * * * * * * * * * *\n",
      "11 : * * * * * * * * * * * * * * * * * * * * * * * * *\n",
      "12 : * * * * * * * * * * * * * * * * * * * * * * * * *\n",
      "13 : * * * * * * * * * * * * * * * * * * * * * * * * *\n",
      "14 : * * * * * * * * * * * * * * * * * * * * * * * * *\n",
      "15 : * * * * * * * * * * * * * * * * * * * * * * * * *\n"
     ]
    },
    {
     "data": {
      "image/png": "[encoded data removed]",
      "text/plain": [
       "plot without title"
      ]
     },
     "metadata": {},
     "output_type": "display_data"
    },
    {
     "data": {
      "image/png": "[encoded data removed]",
      "text/plain": [
       "plot without title"
      ]
     },
     "metadata": {},
     "output_type": "display_data"
    }
   ],
   "source": [
    "#Elbow Method for finding the optimal number of clusters\n",
    "set.seed(123)\n",
    "cl1 <- stepFlexclust(mydatos, k=2:15, FUN=kcca,\n",
    "                     family=kccaFamily(\"kmeans\", dist=\"Euclidian\", cent=\"mean\"),\n",
    "                     nrep=25,multicore=FALSE)\n",
    "plot(cl1)\n",
    "\n",
    "cl2 <- stepFlexclust(mydatos, k=2:15, FUN=kcca,\n",
    "                     family=kccaFamily(\"kmeans\", dist=\"distCor\", cent=\"mean\"),\n",
    "                     nrep=25,multicore=FALSE)\n",
    "plot(cl2)\n"
   ]
  },
  {
   "cell_type": "code",
   "execution_count": null,
   "metadata": {},
   "outputs": [],
   "source": []
  }
 ],
 "metadata": {
  "hide_input": false,
  "kernelspec": {
   "display_name": "R",
   "language": "R",
   "name": "ir"
  },
  "language_info": {
   "codemirror_mode": "r",
   "file_extension": ".r",
   "mimetype": "text/x-r-source",
   "name": "R",
   "pygments_lexer": "r",
   "version": "3.5.0"
  }
 },
 "nbformat": 4,
 "nbformat_minor": 2
}
