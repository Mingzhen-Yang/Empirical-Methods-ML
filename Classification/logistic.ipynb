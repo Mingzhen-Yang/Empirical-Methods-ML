{
 "cells": [
  {
   "cell_type": "markdown",
   "metadata": {},
   "source": [
    "# Logistic Regression"
   ]
  },
  {
   "cell_type": "code",
   "execution_count": 125,
   "metadata": {},
   "outputs": [],
   "source": [
    "## installing the 'wooldridge' package if not previously installed\n",
    "if (!require(wooldridge)) install.packages('wooldridge')\n",
    "\n",
    "data(mroz)\n",
    "\n",
    "##  Obs:   753\n",
    "\n",
    "##  1. inlf                     =1 if in labor force, 1975\n",
    "##  2. hours                    hours worked, 1975\n",
    "##  3. kidslt6                  # kids < 6 years\n",
    "##  4. kidsge6                  # kids 6-18\n",
    "##  5. age                      woman's age in yrs\n",
    "##  6. educ                     years of schooling\n",
    "##  7. wage                     estimated wage from earns., hours\n",
    "##  8. repwage                  reported wage at interview in 1976\n",
    "##  9. hushrs                   hours worked by husband, 1975\n",
    "## 10. husage                   husband's age\n",
    "## 11. huseduc                  husband's years of schooling\n",
    "## 12. huswage                  husband's hourly wage, 1975\n",
    "## 13. faminc                   family income, 1975\n",
    "## 14. mtr                      fed. marginal tax rate facing woman\n",
    "## 15. motheduc                 mother's years of schooling\n",
    "## 16. fatheduc                 father's years of schooling\n",
    "## 17. unem                     unem. rate in county of resid.\n",
    "## 18. city                     =1 if live in SMSA\n",
    "## 19. exper                    actual labor mkt exper\n",
    "## 20. nwifeinc                 (faminc - wage*hours)/1000\n",
    "## 21. lwage                    log(wage)\n",
    "## 22. expersq                  exper^2\n",
    "\n",
    "## specifying the outcome variable (y) and original predictors (X)\n",
    "outcome <- \"inlf\"\n",
    "predictors <- c(\"kidslt6\", \"kidsge6\", \"age\", \"educ\",\"exper\", \"hushrs\", \"husage\", \"huseduc\",\"huswage\", \n",
    "    \"nwifeinc\",\"mtr\",\"unem\",\"city\")\n",
    "\n",
    "## Load the data and remove NAs\n",
    "data(\"mroz\", package = \"wooldridge\")\n",
    "mroz.copy <- subset(mroz, select = c(outcome, predictors))"
   ]
  },
  {
   "cell_type": "code",
   "execution_count": 87,
   "metadata": {},
   "outputs": [],
   "source": [
    "## installing the 'tidyverse' package if not previously installed\n",
    "if (!require(tidyverse)) install.packages('tidyverse')\n",
    "\n",
    "## installing the 'caret' package if not previously installed\n",
    "if (!require(caret)) install.packages('caret')\n",
    "\n",
    "theme_set(theme_bw())\n",
    "\n",
    "## split the data into training and test set\n",
    "set.seed(42)\n",
    "training.samples <- mroz.copy$inlf %>% \n",
    "  createDataPartition(p = 0.8, list = FALSE)\n",
    "train.data  <- mroz.copy[training.samples, ]\n",
    "test.data <- mroz.copy[-training.samples, ]"
   ]
  },
  {
   "cell_type": "code",
   "execution_count": 88,
   "metadata": {},
   "outputs": [
    {
     "data": {
      "text/html": [
       "<dl class=dl-horizontal>\n",
       "\t<dt>(Intercept)</dt>\n",
       "\t\t<dd>22.5951123722492</dd>\n",
       "\t<dt>kidslt6</dt>\n",
       "\t\t<dd>-1.13926856533318</dd>\n",
       "\t<dt>kidsge6</dt>\n",
       "\t\t<dd>0.250506541757344</dd>\n",
       "\t<dt>age</dt>\n",
       "\t\t<dd>-0.0906684527732874</dd>\n",
       "\t<dt>educ</dt>\n",
       "\t\t<dd>0.185756638578118</dd>\n",
       "\t<dt>exper</dt>\n",
       "\t\t<dd>0.105185630241385</dd>\n",
       "\t<dt>hushrs</dt>\n",
       "\t\t<dd>-0.000798784231042056</dd>\n",
       "\t<dt>husage</dt>\n",
       "\t\t<dd>0.0103560412465796</dd>\n",
       "\t<dt>huseduc</dt>\n",
       "\t\t<dd>-0.0597926963673622</dd>\n",
       "\t<dt>huswage</dt>\n",
       "\t\t<dd>-0.195267488287292</dd>\n",
       "\t<dt>nwifeinc</dt>\n",
       "\t\t<dd>-0.0977245334999769</dd>\n",
       "\t<dt>mtr</dt>\n",
       "\t\t<dd>-23.8308255838584</dd>\n",
       "\t<dt>unem</dt>\n",
       "\t\t<dd>-0.00216555768305869</dd>\n",
       "\t<dt>city</dt>\n",
       "\t\t<dd>0.0117254607948788</dd>\n",
       "</dl>\n"
      ],
      "text/latex": [
       "\\begin{description*}\n",
       "\\item[(Intercept)] 22.5951123722492\n",
       "\\item[kidslt6] -1.13926856533318\n",
       "\\item[kidsge6] 0.250506541757344\n",
       "\\item[age] -0.0906684527732874\n",
       "\\item[educ] 0.185756638578118\n",
       "\\item[exper] 0.105185630241385\n",
       "\\item[hushrs] -0.000798784231042056\n",
       "\\item[husage] 0.0103560412465796\n",
       "\\item[huseduc] -0.0597926963673622\n",
       "\\item[huswage] -0.195267488287292\n",
       "\\item[nwifeinc] -0.0977245334999769\n",
       "\\item[mtr] -23.8308255838584\n",
       "\\item[unem] -0.00216555768305869\n",
       "\\item[city] 0.0117254607948788\n",
       "\\end{description*}\n"
      ],
      "text/markdown": [
       "(Intercept)\n",
       ":   22.5951123722492kidslt6\n",
       ":   -1.13926856533318kidsge6\n",
       ":   0.250506541757344age\n",
       ":   -0.0906684527732874educ\n",
       ":   0.185756638578118exper\n",
       ":   0.105185630241385hushrs\n",
       ":   -0.000798784231042056husage\n",
       ":   0.0103560412465796huseduc\n",
       ":   -0.0597926963673622huswage\n",
       ":   -0.195267488287292nwifeinc\n",
       ":   -0.0977245334999769mtr\n",
       ":   -23.8308255838584unem\n",
       ":   -0.00216555768305869city\n",
       ":   0.0117254607948788\n",
       "\n"
      ],
      "text/plain": [
       "  (Intercept)       kidslt6       kidsge6           age          educ \n",
       " 2.259511e+01 -1.139269e+00  2.505065e-01 -9.066845e-02  1.857566e-01 \n",
       "        exper        hushrs        husage       huseduc       huswage \n",
       " 1.051856e-01 -7.987842e-04  1.035604e-02 -5.979270e-02 -1.952675e-01 \n",
       "     nwifeinc           mtr          unem          city \n",
       "-9.772453e-02 -2.383083e+01 -2.165558e-03  1.172546e-02 "
      ]
     },
     "metadata": {},
     "output_type": "display_data"
    },
    {
     "data": {
      "text/html": [
       "0.813333333333333"
      ],
      "text/latex": [
       "0.813333333333333"
      ],
      "text/markdown": [
       "0.813333333333333"
      ],
      "text/plain": [
       "[1] 0.8133333"
      ]
     },
     "metadata": {},
     "output_type": "display_data"
    }
   ],
   "source": [
    "## fit the model\n",
    "model <- glm( inlf ~., data = train.data, family = binomial)\n",
    "\n",
    "## printing the model estimated coefficients\n",
    "coef(model)\n",
    "\n",
    "## making predictions\n",
    "probabilities <- model %>% predict(test.data, type = \"response\")\n",
    "predicted.classes <- ifelse(probabilities > 0.5, 1, 0)\n",
    "\n",
    "## Model accuracy\n",
    "mean(predicted.classes == test.data$inlf)"
   ]
  },
  {
   "cell_type": "code",
   "execution_count": 89,
   "metadata": {},
   "outputs": [
    {
     "data": {
      "image/png": "[encoded data removed]",
      "text/plain": [
       "plot without title"
      ]
     },
     "metadata": {},
     "output_type": "display_data"
    }
   ],
   "source": [
    "xb <- predict(model, type = \"link\")\n",
    "\n",
    "data.frame(train.data,xb=xb) %>%\n",
    "      ggplot(aes(xb, inlf)) +\n",
    "      geom_point(alpha = 0.2) +\n",
    "      geom_smooth(method = \"glm\", method.args = list(family = \"binomial\")) +\n",
    "      labs(\n",
    "        title = \"Logistic Regression Model\", \n",
    "        x = bquote(x * hat(beta)),\n",
    "        y = \"Probability of being in-labor-force\"\n",
    "        )"
   ]
  },
  {
   "cell_type": "code",
   "execution_count": 126,
   "metadata": {},
   "outputs": [],
   "source": [
    "## demeaning all predictors, renaming them and saving their variable names\n",
    "x <- scale(model.matrix(inlf ~ .-city, mroz.copy)[, -1], center = TRUE, scale = FALSE)\n",
    "colnames(x) <- paste(\"d_\", colnames(x), sep = \"\")\n",
    "drops <- colnames(x)\n",
    "\n",
    "## attaching the demeaned predictors to a copy of the original data set\n",
    "mroz.copy <- cbind(mroz.copy, x)\n",
    "\n",
    "d.predictors <- paste('(',paste(drops, collapse = \"+\"),')^2',sep=\"\")\n",
    "xx <- model.matrix(lm(as.formula(paste0(outcome, \"~\", d.predictors)),data=mroz.copy))[,-1]\n",
    "\n",
    "mroz.copy <- cbind(mroz.copy[, !(colnames(mroz.copy) %in% drops)],xx[,!(colnames(xx) %in% drops)])\n",
    "\n",
    "## split the data into training and test set\n",
    "set.seed(42)\n",
    "training.samples <- mroz.copy$inlf %>% \n",
    "  createDataPartition(p = 0.8, list = FALSE)\n",
    "train.data  <- mroz.copy[training.samples, ]\n",
    "test.data <- mroz.copy[-training.samples, ]"
   ]
  },
  {
   "cell_type": "code",
   "execution_count": 127,
   "metadata": {},
   "outputs": [],
   "source": [
    "## for high-dimensional estimation\n",
    "if (!require(glmnet)) install.packages(\"glmnet\")\n",
    "library(glmnet)\n",
    "\n",
    "## creating the feature matrix & outcome for the train data\n",
    "x.train <- as.matrix(train.data[,-1])\n",
    "y.train <- train.data$inlf\n",
    "\n",
    "## creating the response variable for the train data\n",
    "x.test <- as.matrix(test.data[,-1])\n",
    "y.test <- test.data$inlf"
   ]
  },
  {
   "cell_type": "code",
   "execution_count": 92,
   "metadata": {},
   "outputs": [
    {
     "data": {
      "text/html": [
       "0.00865595188343998"
      ],
      "text/latex": [
       "0.00865595188343998"
      ],
      "text/markdown": [
       "0.00865595188343998"
      ],
      "text/plain": [
       "[1] 0.008655952"
      ]
     },
     "metadata": {},
     "output_type": "display_data"
    },
    {
     "data": {
      "image/png": "[encoded data removed]",
      "text/plain": [
       "plot without title"
      ]
     },
     "metadata": {},
     "output_type": "display_data"
    }
   ],
   "source": [
    "set.seed(42)\n",
    "cv.lasso <- cv.glmnet(x.train, y.train, alpha = 1, family = \"binomial\")\n",
    "plot(cv.lasso)\n",
    "\n",
    "cv.lasso$lambda.min"
   ]
  },
  {
   "cell_type": "code",
   "execution_count": 93,
   "metadata": {},
   "outputs": [
    {
     "data": {
      "text/plain": [
       "80 x 1 sparse Matrix of class \"dgCMatrix\"\n",
       "                                 1\n",
       "(Intercept)           1.713181e+01\n",
       "kidslt6              -6.420894e-01\n",
       "kidsge6               9.459160e-02\n",
       "age                  -7.679362e-02\n",
       "educ                  1.130444e-01\n",
       "exper                 1.137793e-01\n",
       "hushrs               -6.524899e-04\n",
       "husage                .           \n",
       "huseduc              -5.406405e-04\n",
       "huswage              -1.543853e-01\n",
       "nwifeinc             -5.917426e-02\n",
       "mtr                  -1.788061e+01\n",
       "unem                  .           \n",
       "city                  .           \n",
       "d_kidslt6:d_kidsge6   .           \n",
       "d_kidslt6:d_age       4.889665e-02\n",
       "d_kidslt6:d_educ      2.363078e-02\n",
       "d_kidslt6:d_exper     .           \n",
       "d_kidslt6:d_hushrs    .           \n",
       "d_kidslt6:d_husage    .           \n",
       "d_kidslt6:d_huseduc   .           \n",
       "d_kidslt6:d_huswage  -2.029816e-03\n",
       "d_kidslt6:d_nwifeinc  .           \n",
       "d_kidslt6:d_mtr       1.625426e+00\n",
       "d_kidslt6:d_unem      1.342908e-02\n",
       "d_kidsge6:d_age       .           \n",
       "d_kidsge6:d_educ      .           \n",
       "d_kidsge6:d_exper     .           \n",
       "d_kidsge6:d_hushrs    .           \n",
       "d_kidsge6:d_husage   -1.486675e-02\n",
       "d_kidsge6:d_huseduc   .           \n",
       "d_kidsge6:d_huswage   1.034518e-03\n",
       "d_kidsge6:d_nwifeinc  .           \n",
       "d_kidsge6:d_mtr       .           \n",
       "d_kidsge6:d_unem      .           \n",
       "d_age:d_educ          .           \n",
       "d_age:d_exper        -1.595454e-03\n",
       "d_age:d_hushrs        .           \n",
       "d_age:d_husage        .           \n",
       "d_age:d_huseduc       3.972626e-03\n",
       "d_age:d_huswage       .           \n",
       "d_age:d_nwifeinc      .           \n",
       "d_age:d_mtr           .           \n",
       "d_age:d_unem          .           \n",
       "d_educ:d_exper        .           \n",
       "d_educ:d_hushrs       .           \n",
       "d_educ:d_husage       .           \n",
       "d_educ:d_huseduc      1.312188e-02\n",
       "d_educ:d_huswage      .           \n",
       "d_educ:d_nwifeinc     .           \n",
       "d_educ:d_mtr          .           \n",
       "d_educ:d_unem         1.365395e-02\n",
       "d_exper:d_hushrs      .           \n",
       "d_exper:d_husage      .           \n",
       "d_exper:d_huseduc     .           \n",
       "d_exper:d_huswage     .           \n",
       "d_exper:d_nwifeinc   -8.110027e-04\n",
       "d_exper:d_mtr        -5.591769e-01\n",
       "d_exper:d_unem        2.507696e-03\n",
       "d_hushrs:d_husage     .           \n",
       "d_hushrs:d_huseduc    1.005084e-04\n",
       "d_hushrs:d_huswage   -5.877741e-05\n",
       "d_hushrs:d_nwifeinc  -4.812109e-06\n",
       "d_hushrs:d_mtr        .           \n",
       "d_hushrs:d_unem      -2.944536e-05\n",
       "d_husage:d_huseduc    .           \n",
       "d_husage:d_huswage    .           \n",
       "d_husage:d_nwifeinc   .           \n",
       "d_husage:d_mtr        .           \n",
       "d_husage:d_unem       .           \n",
       "d_huseduc:d_huswage   .           \n",
       "d_huseduc:d_nwifeinc -2.779273e-03\n",
       "d_huseduc:d_mtr       .           \n",
       "d_huseduc:d_unem      .           \n",
       "d_huswage:d_nwifeinc  .           \n",
       "d_huswage:d_mtr       .           \n",
       "d_huswage:d_unem      .           \n",
       "d_nwifeinc:d_mtr      .           \n",
       "d_nwifeinc:d_unem     4.183933e-03\n",
       "d_mtr:d_unem          .           "
      ]
     },
     "metadata": {},
     "output_type": "display_data"
    }
   ],
   "source": [
    "coef(cv.lasso, cv.lasso$lambda.min)"
   ]
  },
  {
   "cell_type": "code",
   "execution_count": 99,
   "metadata": {},
   "outputs": [
    {
     "data": {
      "text/html": [
       "0.806666666666667"
      ],
      "text/latex": [
       "0.806666666666667"
      ],
      "text/markdown": [
       "0.806666666666667"
      ],
      "text/plain": [
       "[1] 0.8066667"
      ]
     },
     "metadata": {},
     "output_type": "display_data"
    }
   ],
   "source": [
    "# Final model with optimal lambda\n",
    "lasso.model <- glmnet(x.train, y.train, alpha = 1, family = \"binomial\",\n",
    "                      lambda = cv.lasso$lambda.min)\n",
    "probabilities <- lasso.model %>% predict(newx = x.test)\n",
    "predicted.classes <- ifelse(probabilities > 0.5, \"1\", \"0\")\n",
    "# Model accuracy rate\n",
    "mean(predicted.classes == y.test)"
   ]
  },
  {
   "cell_type": "code",
   "execution_count": 157,
   "metadata": {},
   "outputs": [
    {
     "name": "stderr",
     "output_type": "stream",
     "text": [
      "Warning message in train.default(x, y, weights = w, ...):\n",
      "\"The metric \"Accuracy\" was not in the result set. AUC will be used instead.\"Warning message in nominalTrainWorkflow(x = x, y = y, wts = weights, info = trainInfo, :\n",
      "\"There were missing values in resampled performance measures.\""
     ]
    },
    {
     "data": {
      "text/plain": [
       "80 x 1 sparse Matrix of class \"dgCMatrix\"\n",
       "                                 1\n",
       "(Intercept)           2.083798e+01\n",
       "kidslt6              -7.184792e-01\n",
       "kidsge6               1.322321e-01\n",
       "age                  -8.403366e-02\n",
       "educ                  1.257681e-01\n",
       "exper                 1.225910e-01\n",
       "hushrs               -8.461640e-04\n",
       "husage                .           \n",
       "huseduc              -5.756045e-03\n",
       "huswage              -1.965878e-01\n",
       "nwifeinc             -7.021137e-02\n",
       "mtr                  -2.175845e+01\n",
       "unem                  .           \n",
       "city                  .           \n",
       "d_kidslt6.d_kidsge6   .           \n",
       "d_kidslt6.d_age       4.472044e-02\n",
       "d_kidslt6.d_educ      7.810394e-02\n",
       "d_kidslt6.d_exper    -1.366258e-02\n",
       "d_kidslt6.d_hushrs    .           \n",
       "d_kidslt6.d_husage    1.118202e-02\n",
       "d_kidslt6.d_huseduc   .           \n",
       "d_kidslt6.d_huswage  -1.721184e-02\n",
       "d_kidslt6.d_nwifeinc  .           \n",
       "d_kidslt6.d_mtr       2.548683e+00\n",
       "d_kidslt6.d_unem      1.966759e-02\n",
       "d_kidsge6.d_age       .           \n",
       "d_kidsge6.d_educ      .           \n",
       "d_kidsge6.d_exper     .           \n",
       "d_kidsge6.d_hushrs    .           \n",
       "d_kidsge6.d_husage   -1.965583e-02\n",
       "d_kidsge6.d_huseduc   .           \n",
       "d_kidsge6.d_huswage   9.408687e-03\n",
       "d_kidsge6.d_nwifeinc  .           \n",
       "d_kidsge6.d_mtr      -1.579106e-02\n",
       "d_kidsge6.d_unem      .           \n",
       "d_age.d_educ          .           \n",
       "d_age.d_exper        -2.581609e-03\n",
       "d_age.d_hushrs        .           \n",
       "d_age.d_husage        .           \n",
       "d_age.d_huseduc       4.754078e-03\n",
       "d_age.d_huswage       .           \n",
       "d_age.d_nwifeinc      .           \n",
       "d_age.d_mtr           .           \n",
       "d_age.d_unem          .           \n",
       "d_educ.d_exper        .           \n",
       "d_educ.d_hushrs       .           \n",
       "d_educ.d_husage       .           \n",
       "d_educ.d_huseduc      1.309626e-02\n",
       "d_educ.d_huswage      .           \n",
       "d_educ.d_nwifeinc     .           \n",
       "d_educ.d_mtr          .           \n",
       "d_educ.d_unem         1.573794e-02\n",
       "d_exper.d_hushrs      .           \n",
       "d_exper.d_husage      .           \n",
       "d_exper.d_huseduc     .           \n",
       "d_exper.d_huswage    -4.352021e-04\n",
       "d_exper.d_nwifeinc   -2.329886e-03\n",
       "d_exper.d_mtr        -8.552932e-01\n",
       "d_exper.d_unem        3.332440e-03\n",
       "d_hushrs.d_husage     .           \n",
       "d_hushrs.d_huseduc    1.250903e-04\n",
       "d_hushrs.d_huswage   -8.295987e-05\n",
       "d_hushrs.d_nwifeinc  -9.949006e-06\n",
       "d_hushrs.d_mtr        .           \n",
       "d_hushrs.d_unem      -3.228044e-05\n",
       "d_husage.d_huseduc    .           \n",
       "d_husage.d_huswage    .           \n",
       "d_husage.d_nwifeinc   .           \n",
       "d_husage.d_mtr        .           \n",
       "d_husage.d_unem       1.073279e-04\n",
       "d_huseduc.d_huswage   .           \n",
       "d_huseduc.d_nwifeinc -5.439205e-03\n",
       "d_huseduc.d_mtr      -3.876177e-01\n",
       "d_huseduc.d_unem      .           \n",
       "d_huswage.d_nwifeinc  3.611113e-05\n",
       "d_huswage.d_mtr       .           \n",
       "d_huswage.d_unem      .           \n",
       "d_nwifeinc.d_mtr      .           \n",
       "d_nwifeinc.d_unem     4.574591e-03\n",
       "d_mtr.d_unem          .           "
      ]
     },
     "metadata": {},
     "output_type": "display_data"
    },
    {
     "data": {
      "text/html": [
       "0.826666666666667"
      ],
      "text/latex": [
       "0.826666666666667"
      ],
      "text/markdown": [
       "0.826666666666667"
      ],
      "text/plain": [
       "[1] 0.8266667"
      ]
     },
     "metadata": {},
     "output_type": "display_data"
    }
   ],
   "source": [
    "## for easy machine learning workflow\n",
    "if (!require(caret)) install.packages(\"caret\")\n",
    "library(caret)\n",
    "\n",
    "## for easy machine learning workflow\n",
    "if (!require(MLmetrics)) install.packages(\"MLmetrics\")\n",
    "library(MLmetrics)\n",
    "\n",
    "\n",
    "\n",
    "## setting up a grid range of lambda values\n",
    "lambda <- 10^seq(-3, 3, length = 100)\n",
    "\n",
    "## LASSO: building the model\n",
    "set.seed(42)\n",
    "lasso <- train(inlf ~ ., data = data.frame(inlf = factor(train.data$inlf,labels=c(\"no\",\"yes\")), train.data[,-1]), method = \"glmnet\", \n",
    "    trControl = trainControl(\"cv\",number = 10,summaryFunction = prSummary,classProbs = T), tuneGrid = expand.grid(alpha = 1, \n",
    "        lambda = lambda),family=\"binomial\",metric=\"Accuracy\")\n",
    "\n",
    "## LASSO: model coefficients\n",
    "coef(lasso$finalModel, lasso$bestTune$lambda)\n",
    "\n",
    "## LASSO: making predictions\n",
    "probabilities <- lasso %>% predict(data.frame(lprice = factor(test.data$inlf,labels=c(\"no\",\"yes\")), test.data[,-1]))\n",
    "\n",
    "# Model accuracy rate\n",
    "mean(as.numeric(probabilities)==y.test+1)"
   ]
  },
  {
   "cell_type": "code",
   "execution_count": null,
   "metadata": {},
   "outputs": [],
   "source": []
  }
 ],
 "metadata": {
  "kernelspec": {
   "display_name": "R",
   "language": "R",
   "name": "ir"
  },
  "language_info": {
   "codemirror_mode": "r",
   "file_extension": ".r",
   "mimetype": "text/x-r-source",
   "name": "R",
   "pygments_lexer": "r",
   "version": "3.6.1"
  }
 },
 "nbformat": 4,
 "nbformat_minor": 2
}
