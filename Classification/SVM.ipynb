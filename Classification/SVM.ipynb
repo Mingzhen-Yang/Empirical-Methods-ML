{
 "cells": [
  {
   "cell_type": "markdown",
   "metadata": {},
   "source": [
    "# Support Vector Machine"
   ]
  },
  {
   "cell_type": "code",
   "execution_count": 1,
   "metadata": {},
   "outputs": [
    {
     "name": "stderr",
     "output_type": "stream",
     "text": [
      "Loading required package: wooldridge\n"
     ]
    },
    {
     "data": {
      "text/html": [
       "<table>\n",
       "<caption>A data.frame: 10 × 14</caption>\n",
       "<thead>\n",
       "\t<tr><th scope=col>inlf</th><th scope=col>kidslt6</th><th scope=col>kidsge6</th><th scope=col>age</th><th scope=col>educ</th><th scope=col>exper</th><th scope=col>hushrs</th><th scope=col>husage</th><th scope=col>huseduc</th><th scope=col>huswage</th><th scope=col>nwifeinc</th><th scope=col>mtr</th><th scope=col>unem</th><th scope=col>city</th></tr>\n",
       "\t<tr><th scope=col>&lt;fct&gt;</th><th scope=col>&lt;int&gt;</th><th scope=col>&lt;int&gt;</th><th scope=col>&lt;int&gt;</th><th scope=col>&lt;int&gt;</th><th scope=col>&lt;int&gt;</th><th scope=col>&lt;int&gt;</th><th scope=col>&lt;int&gt;</th><th scope=col>&lt;int&gt;</th><th scope=col>&lt;dbl&gt;</th><th scope=col>&lt;dbl&gt;</th><th scope=col>&lt;dbl&gt;</th><th scope=col>&lt;dbl&gt;</th><th scope=col>&lt;int&gt;</th></tr>\n",
       "</thead>\n",
       "<tbody>\n",
       "\t<tr><td>1</td><td>1</td><td>0</td><td>32</td><td>12</td><td>14</td><td>2708</td><td>34</td><td>12</td><td> 4.0288</td><td>10.910060</td><td>0.7215</td><td> 5.0</td><td>0</td></tr>\n",
       "\t<tr><td>1</td><td>0</td><td>2</td><td>30</td><td>12</td><td> 5</td><td>2310</td><td>30</td><td> 9</td><td> 8.4416</td><td>19.499981</td><td>0.6615</td><td>11.0</td><td>1</td></tr>\n",
       "\t<tr><td>1</td><td>1</td><td>3</td><td>35</td><td>12</td><td>15</td><td>3072</td><td>40</td><td>12</td><td> 3.5807</td><td>12.039910</td><td>0.6915</td><td> 5.0</td><td>0</td></tr>\n",
       "\t<tr><td>1</td><td>0</td><td>3</td><td>34</td><td>12</td><td> 6</td><td>1920</td><td>53</td><td>10</td><td> 3.5417</td><td> 6.799996</td><td>0.7815</td><td> 5.0</td><td>0</td></tr>\n",
       "\t<tr><td>1</td><td>1</td><td>2</td><td>31</td><td>14</td><td> 7</td><td>2000</td><td>32</td><td>12</td><td>10.0000</td><td>20.100058</td><td>0.6215</td><td> 9.5</td><td>1</td></tr>\n",
       "\t<tr><td>1</td><td>0</td><td>0</td><td>54</td><td>12</td><td>33</td><td>1040</td><td>57</td><td>11</td><td> 6.7106</td><td> 9.859054</td><td>0.6915</td><td> 7.5</td><td>1</td></tr>\n",
       "\t<tr><td>1</td><td>0</td><td>2</td><td>37</td><td>16</td><td>11</td><td>2670</td><td>37</td><td>12</td><td> 3.4277</td><td> 9.152048</td><td>0.6915</td><td> 5.0</td><td>0</td></tr>\n",
       "\t<tr><td>1</td><td>0</td><td>0</td><td>54</td><td>12</td><td>35</td><td>4120</td><td>53</td><td> 8</td><td> 2.5485</td><td>10.900038</td><td>0.6915</td><td> 5.0</td><td>0</td></tr>\n",
       "\t<tr><td>1</td><td>0</td><td>2</td><td>48</td><td>12</td><td>24</td><td>1995</td><td>52</td><td> 4</td><td> 4.2206</td><td>17.305000</td><td>0.7515</td><td> 3.0</td><td>0</td></tr>\n",
       "\t<tr><td>1</td><td>0</td><td>2</td><td>39</td><td>12</td><td>21</td><td>2100</td><td>43</td><td>12</td><td> 5.7143</td><td>12.925000</td><td>0.6915</td><td> 5.0</td><td>0</td></tr>\n",
       "</tbody>\n",
       "</table>\n"
      ],
      "text/latex": [
       "A data.frame: 10 × 14\n",
       "\\begin{tabular}{r|llllllllllllll}\n",
       " inlf & kidslt6 & kidsge6 & age & educ & exper & hushrs & husage & huseduc & huswage & nwifeinc & mtr & unem & city\\\\\n",
       " <fct> & <int> & <int> & <int> & <int> & <int> & <int> & <int> & <int> & <dbl> & <dbl> & <dbl> & <dbl> & <int>\\\\\n",
       "\\hline\n",
       "\t 1 & 1 & 0 & 32 & 12 & 14 & 2708 & 34 & 12 &  4.0288 & 10.910060 & 0.7215 &  5.0 & 0\\\\\n",
       "\t 1 & 0 & 2 & 30 & 12 &  5 & 2310 & 30 &  9 &  8.4416 & 19.499981 & 0.6615 & 11.0 & 1\\\\\n",
       "\t 1 & 1 & 3 & 35 & 12 & 15 & 3072 & 40 & 12 &  3.5807 & 12.039910 & 0.6915 &  5.0 & 0\\\\\n",
       "\t 1 & 0 & 3 & 34 & 12 &  6 & 1920 & 53 & 10 &  3.5417 &  6.799996 & 0.7815 &  5.0 & 0\\\\\n",
       "\t 1 & 1 & 2 & 31 & 14 &  7 & 2000 & 32 & 12 & 10.0000 & 20.100058 & 0.6215 &  9.5 & 1\\\\\n",
       "\t 1 & 0 & 0 & 54 & 12 & 33 & 1040 & 57 & 11 &  6.7106 &  9.859054 & 0.6915 &  7.5 & 1\\\\\n",
       "\t 1 & 0 & 2 & 37 & 16 & 11 & 2670 & 37 & 12 &  3.4277 &  9.152048 & 0.6915 &  5.0 & 0\\\\\n",
       "\t 1 & 0 & 0 & 54 & 12 & 35 & 4120 & 53 &  8 &  2.5485 & 10.900038 & 0.6915 &  5.0 & 0\\\\\n",
       "\t 1 & 0 & 2 & 48 & 12 & 24 & 1995 & 52 &  4 &  4.2206 & 17.305000 & 0.7515 &  3.0 & 0\\\\\n",
       "\t 1 & 0 & 2 & 39 & 12 & 21 & 2100 & 43 & 12 &  5.7143 & 12.925000 & 0.6915 &  5.0 & 0\\\\\n",
       "\\end{tabular}\n"
      ],
      "text/markdown": [
       "\n",
       "A data.frame: 10 × 14\n",
       "\n",
       "| inlf &lt;fct&gt; | kidslt6 &lt;int&gt; | kidsge6 &lt;int&gt; | age &lt;int&gt; | educ &lt;int&gt; | exper &lt;int&gt; | hushrs &lt;int&gt; | husage &lt;int&gt; | huseduc &lt;int&gt; | huswage &lt;dbl&gt; | nwifeinc &lt;dbl&gt; | mtr &lt;dbl&gt; | unem &lt;dbl&gt; | city &lt;int&gt; |\n",
       "|---|---|---|---|---|---|---|---|---|---|---|---|---|---|\n",
       "| 1 | 1 | 0 | 32 | 12 | 14 | 2708 | 34 | 12 |  4.0288 | 10.910060 | 0.7215 |  5.0 | 0 |\n",
       "| 1 | 0 | 2 | 30 | 12 |  5 | 2310 | 30 |  9 |  8.4416 | 19.499981 | 0.6615 | 11.0 | 1 |\n",
       "| 1 | 1 | 3 | 35 | 12 | 15 | 3072 | 40 | 12 |  3.5807 | 12.039910 | 0.6915 |  5.0 | 0 |\n",
       "| 1 | 0 | 3 | 34 | 12 |  6 | 1920 | 53 | 10 |  3.5417 |  6.799996 | 0.7815 |  5.0 | 0 |\n",
       "| 1 | 1 | 2 | 31 | 14 |  7 | 2000 | 32 | 12 | 10.0000 | 20.100058 | 0.6215 |  9.5 | 1 |\n",
       "| 1 | 0 | 0 | 54 | 12 | 33 | 1040 | 57 | 11 |  6.7106 |  9.859054 | 0.6915 |  7.5 | 1 |\n",
       "| 1 | 0 | 2 | 37 | 16 | 11 | 2670 | 37 | 12 |  3.4277 |  9.152048 | 0.6915 |  5.0 | 0 |\n",
       "| 1 | 0 | 0 | 54 | 12 | 35 | 4120 | 53 |  8 |  2.5485 | 10.900038 | 0.6915 |  5.0 | 0 |\n",
       "| 1 | 0 | 2 | 48 | 12 | 24 | 1995 | 52 |  4 |  4.2206 | 17.305000 | 0.7515 |  3.0 | 0 |\n",
       "| 1 | 0 | 2 | 39 | 12 | 21 | 2100 | 43 | 12 |  5.7143 | 12.925000 | 0.6915 |  5.0 | 0 |\n",
       "\n"
      ],
      "text/plain": [
       "   inlf kidslt6 kidsge6 age educ exper hushrs husage huseduc huswage nwifeinc \n",
       "1  1    1       0       32  12   14    2708   34     12       4.0288 10.910060\n",
       "2  1    0       2       30  12    5    2310   30      9       8.4416 19.499981\n",
       "3  1    1       3       35  12   15    3072   40     12       3.5807 12.039910\n",
       "4  1    0       3       34  12    6    1920   53     10       3.5417  6.799996\n",
       "5  1    1       2       31  14    7    2000   32     12      10.0000 20.100058\n",
       "6  1    0       0       54  12   33    1040   57     11       6.7106  9.859054\n",
       "7  1    0       2       37  16   11    2670   37     12       3.4277  9.152048\n",
       "8  1    0       0       54  12   35    4120   53      8       2.5485 10.900038\n",
       "9  1    0       2       48  12   24    1995   52      4       4.2206 17.305000\n",
       "10 1    0       2       39  12   21    2100   43     12       5.7143 12.925000\n",
       "   mtr    unem city\n",
       "1  0.7215  5.0 0   \n",
       "2  0.6615 11.0 1   \n",
       "3  0.6915  5.0 0   \n",
       "4  0.7815  5.0 0   \n",
       "5  0.6215  9.5 1   \n",
       "6  0.6915  7.5 1   \n",
       "7  0.6915  5.0 0   \n",
       "8  0.6915  5.0 0   \n",
       "9  0.7515  3.0 0   \n",
       "10 0.6915  5.0 0   "
      ]
     },
     "metadata": {},
     "output_type": "display_data"
    }
   ],
   "source": [
    "## installing the 'wooldridge' package if not previously installed\n",
    "if (!require(wooldridge)) install.packages('wooldridge')\n",
    "\n",
    "data(mroz)\n",
    "\n",
    "##  Obs:   753\n",
    "\n",
    "##  1. inlf                     =1 if in labor force, 1975\n",
    "##  2. hours                    hours worked, 1975\n",
    "##  3. kidslt6                  # kids < 6 years\n",
    "##  4. kidsge6                  # kids 6-18\n",
    "##  5. age                      woman's age in yrs\n",
    "##  6. educ                     years of schooling\n",
    "##  7. wage                     estimated wage from earns., hours\n",
    "##  8. repwage                  reported wage at interview in 1976\n",
    "##  9. hushrs                   hours worked by husband, 1975\n",
    "## 10. husage                   husband's age\n",
    "## 11. huseduc                  husband's years of schooling\n",
    "## 12. huswage                  husband's hourly wage, 1975\n",
    "## 13. faminc                   family income, 1975\n",
    "## 14. mtr                      fed. marginal tax rate facing woman\n",
    "## 15. motheduc                 mother's years of schooling\n",
    "## 16. fatheduc                 father's years of schooling\n",
    "## 17. unem                     unem. rate in county of resid.\n",
    "## 18. city                     =1 if live in SMSA (Standard Metropolitan Statistical Area)\n",
    "## 19. exper                    actual labor mkt exper\n",
    "## 20. nwifeinc                 (faminc - wage*hours)/1000\n",
    "## 21. lwage                    log(wage)\n",
    "## 22. expersq                  exper^2\n",
    "\n",
    "## specifying the outcome variable (y) and original predictors (X)\n",
    "outcome <- \"inlf\"\n",
    "predictors <- c(\"kidslt6\", \"kidsge6\", \"age\", \"educ\",\"exper\", \"hushrs\", \"husage\", \"huseduc\",\"huswage\", \n",
    "    \"nwifeinc\",\"mtr\",\"unem\",\"city\")\n",
    "\n",
    "## creating local copy with relevant variables\n",
    "data(\"mroz\", package = \"wooldridge\")\n",
    "mroz.copy <- subset(mroz, select = c(outcome, predictors))\n",
    "mroz.copy$inlf <- as.factor(mroz.copy$inlf)\n",
    "\n",
    "head(mroz.copy,10)"
   ]
  },
  {
   "cell_type": "code",
   "execution_count": 2,
   "metadata": {},
   "outputs": [
    {
     "name": "stderr",
     "output_type": "stream",
     "text": [
      "Loading required package: tidyverse\n",
      "-- \u001b[1mAttaching packages\u001b[22m --------------------------------------- tidyverse 1.2.1 --\n",
      "\u001b[32mv\u001b[39m \u001b[34mggplot2\u001b[39m 3.2.1     \u001b[32mv\u001b[39m \u001b[34mpurrr  \u001b[39m 0.3.3\n",
      "\u001b[32mv\u001b[39m \u001b[34mtibble \u001b[39m 2.1.3     \u001b[32mv\u001b[39m \u001b[34mdplyr  \u001b[39m 0.8.3\n",
      "\u001b[32mv\u001b[39m \u001b[34mtidyr  \u001b[39m 1.0.0     \u001b[32mv\u001b[39m \u001b[34mstringr\u001b[39m 1.4.0\n",
      "\u001b[32mv\u001b[39m \u001b[34mreadr  \u001b[39m 1.3.1     \u001b[32mv\u001b[39m \u001b[34mforcats\u001b[39m 0.4.0\n",
      "-- \u001b[1mConflicts\u001b[22m ------------------------------------------ tidyverse_conflicts() --\n",
      "\u001b[31mx\u001b[39m \u001b[34mdplyr\u001b[39m::\u001b[32mfilter()\u001b[39m masks \u001b[34mstats\u001b[39m::filter()\n",
      "\u001b[31mx\u001b[39m \u001b[34mdplyr\u001b[39m::\u001b[32mlag()\u001b[39m    masks \u001b[34mstats\u001b[39m::lag()\n",
      "Loading required package: caret\n",
      "Loading required package: lattice\n",
      "\n",
      "Attaching package: 'caret'\n",
      "\n",
      "The following object is masked from 'package:purrr':\n",
      "\n",
      "    lift\n",
      "\n"
     ]
    }
   ],
   "source": [
    "## installing the 'tidyverse' package if not previously installed\n",
    "if (!require(tidyverse)) install.packages('tidyverse')\n",
    "\n",
    "## installing the 'caret' package if not previously installed\n",
    "if (!require(caret)) install.packages('caret')\n",
    "\n",
    "## split the data into training and test set\n",
    "set.seed(2020)\n",
    "training.samples <- mroz.copy$inlf %>% \n",
    "  createDataPartition(p = 0.75, list = FALSE)\n",
    "train.data  <- mroz.copy[training.samples, ]\n",
    "test.data <- mroz.copy[-training.samples, ]"
   ]
  },
  {
   "cell_type": "code",
   "execution_count": 4,
   "metadata": {},
   "outputs": [],
   "source": [
    "set.seed(2020)\n",
    "model <- train(inlf~.,data=train.data,method=\"svmLinear\",\n",
    "              trControl=trainControl(\"cv\",number=10),\n",
    "              preProcess=c(\"center\",\"scale\")\n",
    "              )"
   ]
  },
  {
   "cell_type": "code",
   "execution_count": 5,
   "metadata": {},
   "outputs": [
    {
     "data": {
      "text/plain": [
       "Confusion Matrix and Statistics\n",
       "\n",
       "          Reference\n",
       "Prediction no yes\n",
       "       no  60  21\n",
       "       yes 25  82\n",
       "                                         \n",
       "               Accuracy : 0.7553         \n",
       "                 95% CI : (0.6875, 0.815)\n",
       "    No Information Rate : 0.5479         \n",
       "    P-Value [Acc > NIR] : 3.19e-09       \n",
       "                                         \n",
       "                  Kappa : 0.5041         \n",
       "                                         \n",
       " Mcnemar's Test P-Value : 0.6583         \n",
       "                                         \n",
       "            Sensitivity : 0.7059         \n",
       "            Specificity : 0.7961         \n",
       "         Pos Pred Value : 0.7407         \n",
       "         Neg Pred Value : 0.7664         \n",
       "             Prevalence : 0.4521         \n",
       "         Detection Rate : 0.3191         \n",
       "   Detection Prevalence : 0.4309         \n",
       "      Balanced Accuracy : 0.7510         \n",
       "                                         \n",
       "       'Positive' Class : no             \n",
       "                                         "
      ]
     },
     "metadata": {},
     "output_type": "display_data"
    }
   ],
   "source": [
    "predicted.classes <- model %>% predict(test.data)\n",
    "## assessing model accuracy\n",
    "confusionMatrix(data = factor(test.data$inlf,labels=c(\"no\",\"yes\")),\n",
    "                reference = factor(predicted.classes,labels=c(\"no\",\"yes\")))"
   ]
  },
  {
   "cell_type": "code",
   "execution_count": 6,
   "metadata": {},
   "outputs": [
    {
     "name": "stderr",
     "output_type": "stream",
     "text": [
      "Warning message:\n",
      "\"model fit failed for Fold01: C=0.0000 Error in .local(x, ...) : \n",
      "  No Support Vectors found. You may want to change your parameters\n",
      "\"Warning message:\n",
      "\"model fit failed for Fold02: C=0.0000 Error in .local(x, ...) : \n",
      "  No Support Vectors found. You may want to change your parameters\n",
      "\"Warning message:\n",
      "\"model fit failed for Fold03: C=0.0000 Error in .local(x, ...) : \n",
      "  No Support Vectors found. You may want to change your parameters\n",
      "\"Warning message:\n",
      "\"model fit failed for Fold04: C=0.0000 Error in .local(x, ...) : \n",
      "  No Support Vectors found. You may want to change your parameters\n",
      "\"Warning message:\n",
      "\"model fit failed for Fold05: C=0.0000 Error in .local(x, ...) : \n",
      "  No Support Vectors found. You may want to change your parameters\n",
      "\"Warning message:\n",
      "\"model fit failed for Fold06: C=0.0000 Error in .local(x, ...) : \n",
      "  No Support Vectors found. You may want to change your parameters\n",
      "\"Warning message:\n",
      "\"model fit failed for Fold07: C=0.0000 Error in .local(x, ...) : \n",
      "  No Support Vectors found. You may want to change your parameters\n",
      "\"Warning message:\n",
      "\"model fit failed for Fold08: C=0.0000 Error in .local(x, ...) : \n",
      "  No Support Vectors found. You may want to change your parameters\n",
      "\"Warning message:\n",
      "\"model fit failed for Fold09: C=0.0000 Error in .local(x, ...) : \n",
      "  No Support Vectors found. You may want to change your parameters\n",
      "\"Warning message:\n",
      "\"model fit failed for Fold10: C=0.0000 Error in .local(x, ...) : \n",
      "  No Support Vectors found. You may want to change your parameters\n",
      "\"Warning message in nominalTrainWorkflow(x = x, y = y, wts = weights, info = trainInfo, :\n",
      "\"There were missing values in resampled performance measures.\"Warning message in train.default(x, y, weights = w, ...):\n",
      "\"missing values found in aggregated results\""
     ]
    },
    {
     "data": {
      "text/html": [
       "<table>\n",
       "<caption>A data.frame: 1 × 1</caption>\n",
       "<thead>\n",
       "\t<tr><th></th><th scope=col>C</th></tr>\n",
       "\t<tr><th></th><th scope=col>&lt;dbl&gt;</th></tr>\n",
       "</thead>\n",
       "<tbody>\n",
       "\t<tr><th scope=row>8</th><td>0.7368421</td></tr>\n",
       "</tbody>\n",
       "</table>\n"
      ],
      "text/latex": [
       "A data.frame: 1 × 1\n",
       "\\begin{tabular}{r|l}\n",
       "  & C\\\\\n",
       "  & <dbl>\\\\\n",
       "\\hline\n",
       "\t8 & 0.7368421\\\\\n",
       "\\end{tabular}\n"
      ],
      "text/markdown": [
       "\n",
       "A data.frame: 1 × 1\n",
       "\n",
       "| <!--/--> | C &lt;dbl&gt; |\n",
       "|---|---|\n",
       "| 8 | 0.7368421 |\n",
       "\n"
      ],
      "text/plain": [
       "  C        \n",
       "8 0.7368421"
      ]
     },
     "metadata": {},
     "output_type": "display_data"
    },
    {
     "data": {
      "image/png": "[encoded data removed]",
      "text/plain": [
       "plot without title"
      ]
     },
     "metadata": {},
     "output_type": "display_data"
    }
   ],
   "source": [
    "set.seed(2020)\n",
    "model <- train(inlf~.,data=train.data,method=\"svmLinear\",\n",
    "              trControl=trainControl(\"cv\",number=10),\n",
    "              tuneGrid=expand.grid(C=seq(0,2,length=20)),\n",
    "              preProcess=c(\"center\",\"scale\")\n",
    "              )\n",
    "plot(model)\n",
    "model$bestTune"
   ]
  },
  {
   "cell_type": "code",
   "execution_count": 7,
   "metadata": {},
   "outputs": [
    {
     "data": {
      "text/plain": [
       "Confusion Matrix and Statistics\n",
       "\n",
       "          Reference\n",
       "Prediction no yes\n",
       "       no  60  21\n",
       "       yes 26  81\n",
       "                                          \n",
       "               Accuracy : 0.75            \n",
       "                 95% CI : (0.6818, 0.8102)\n",
       "    No Information Rate : 0.5426          \n",
       "    P-Value [Acc > NIR] : 3.498e-09       \n",
       "                                          \n",
       "                  Kappa : 0.494           \n",
       "                                          \n",
       " Mcnemar's Test P-Value : 0.5596          \n",
       "                                          \n",
       "            Sensitivity : 0.6977          \n",
       "            Specificity : 0.7941          \n",
       "         Pos Pred Value : 0.7407          \n",
       "         Neg Pred Value : 0.7570          \n",
       "             Prevalence : 0.4574          \n",
       "         Detection Rate : 0.3191          \n",
       "   Detection Prevalence : 0.4309          \n",
       "      Balanced Accuracy : 0.7459          \n",
       "                                          \n",
       "       'Positive' Class : no              \n",
       "                                          "
      ]
     },
     "metadata": {},
     "output_type": "display_data"
    }
   ],
   "source": [
    "predicted.classes <- model %>% predict(test.data)\n",
    "## assessing model accuracy\n",
    "confusionMatrix(data = factor(test.data$inlf,labels=c(\"no\",\"yes\")),\n",
    "                reference = factor(predicted.classes,labels=c(\"no\",\"yes\")))"
   ]
  },
  {
   "cell_type": "code",
   "execution_count": 8,
   "metadata": {},
   "outputs": [
    {
     "data": {
      "text/html": [
       "<table>\n",
       "<caption>A data.frame: 1 × 2</caption>\n",
       "<thead>\n",
       "\t<tr><th></th><th scope=col>sigma</th><th scope=col>C</th></tr>\n",
       "\t<tr><th></th><th scope=col>&lt;dbl&gt;</th><th scope=col>&lt;dbl&gt;</th></tr>\n",
       "</thead>\n",
       "<tbody>\n",
       "\t<tr><th scope=row>2</th><td>0.05337645</td><td>0.5</td></tr>\n",
       "</tbody>\n",
       "</table>\n"
      ],
      "text/latex": [
       "A data.frame: 1 × 2\n",
       "\\begin{tabular}{r|ll}\n",
       "  & sigma & C\\\\\n",
       "  & <dbl> & <dbl>\\\\\n",
       "\\hline\n",
       "\t2 & 0.05337645 & 0.5\\\\\n",
       "\\end{tabular}\n"
      ],
      "text/markdown": [
       "\n",
       "A data.frame: 1 × 2\n",
       "\n",
       "| <!--/--> | sigma &lt;dbl&gt; | C &lt;dbl&gt; |\n",
       "|---|---|---|\n",
       "| 2 | 0.05337645 | 0.5 |\n",
       "\n"
      ],
      "text/plain": [
       "  sigma      C  \n",
       "2 0.05337645 0.5"
      ]
     },
     "metadata": {},
     "output_type": "display_data"
    },
    {
     "data": {
      "text/plain": [
       "Confusion Matrix and Statistics\n",
       "\n",
       "          Reference\n",
       "Prediction no yes\n",
       "       no  53  28\n",
       "       yes 24  83\n",
       "                                         \n",
       "               Accuracy : 0.7234         \n",
       "                 95% CI : (0.6536, 0.786)\n",
       "    No Information Rate : 0.5904         \n",
       "    P-Value [Acc > NIR] : 0.0001023      \n",
       "                                         \n",
       "                  Kappa : 0.4326         \n",
       "                                         \n",
       " Mcnemar's Test P-Value : 0.6773916      \n",
       "                                         \n",
       "            Sensitivity : 0.6883         \n",
       "            Specificity : 0.7477         \n",
       "         Pos Pred Value : 0.6543         \n",
       "         Neg Pred Value : 0.7757         \n",
       "             Prevalence : 0.4096         \n",
       "         Detection Rate : 0.2819         \n",
       "   Detection Prevalence : 0.4309         \n",
       "      Balanced Accuracy : 0.7180         \n",
       "                                         \n",
       "       'Positive' Class : no             \n",
       "                                         "
      ]
     },
     "metadata": {},
     "output_type": "display_data"
    }
   ],
   "source": [
    "set.seed(24)\n",
    "model <- train(inlf~.,data=train.data,method=\"svmRadial\",\n",
    "              trControl=trainControl(\"cv\",number=10),\n",
    "              preProcess=c(\"center\",\"scale\"),\n",
    "              tuneLength=10\n",
    "              )\n",
    "model$bestTune\n",
    "predicted.classes <- model %>% predict(test.data)\n",
    "## assessing model accuracy\n",
    "confusionMatrix(data = factor(test.data$inlf,labels=c(\"no\",\"yes\")),\n",
    "                reference = factor(predicted.classes,labels=c(\"no\",\"yes\")))"
   ]
  },
  {
   "cell_type": "code",
   "execution_count": 9,
   "metadata": {},
   "outputs": [
    {
     "data": {
      "text/html": [
       "<table>\n",
       "<caption>A data.frame: 1 × 3</caption>\n",
       "<thead>\n",
       "\t<tr><th></th><th scope=col>degree</th><th scope=col>scale</th><th scope=col>C</th></tr>\n",
       "\t<tr><th></th><th scope=col>&lt;int&gt;</th><th scope=col>&lt;dbl&gt;</th><th scope=col>&lt;dbl&gt;</th></tr>\n",
       "</thead>\n",
       "<tbody>\n",
       "\t<tr><th scope=row>14</th><td>1</td><td>1</td><td>0.5</td></tr>\n",
       "</tbody>\n",
       "</table>\n"
      ],
      "text/latex": [
       "A data.frame: 1 × 3\n",
       "\\begin{tabular}{r|lll}\n",
       "  & degree & scale & C\\\\\n",
       "  & <int> & <dbl> & <dbl>\\\\\n",
       "\\hline\n",
       "\t14 & 1 & 1 & 0.5\\\\\n",
       "\\end{tabular}\n"
      ],
      "text/markdown": [
       "\n",
       "A data.frame: 1 × 3\n",
       "\n",
       "| <!--/--> | degree &lt;int&gt; | scale &lt;dbl&gt; | C &lt;dbl&gt; |\n",
       "|---|---|---|---|\n",
       "| 14 | 1 | 1 | 0.5 |\n",
       "\n"
      ],
      "text/plain": [
       "   degree scale C  \n",
       "14 1      1     0.5"
      ]
     },
     "metadata": {},
     "output_type": "display_data"
    },
    {
     "data": {
      "text/plain": [
       "Confusion Matrix and Statistics\n",
       "\n",
       "          Reference\n",
       "Prediction no yes\n",
       "       no  60  21\n",
       "       yes 27  80\n",
       "                                          \n",
       "               Accuracy : 0.7447          \n",
       "                 95% CI : (0.6761, 0.8054)\n",
       "    No Information Rate : 0.5372          \n",
       "    P-Value [Acc > NIR] : 3.815e-09       \n",
       "                                          \n",
       "                  Kappa : 0.484           \n",
       "                                          \n",
       " Mcnemar's Test P-Value : 0.4705          \n",
       "                                          \n",
       "            Sensitivity : 0.6897          \n",
       "            Specificity : 0.7921          \n",
       "         Pos Pred Value : 0.7407          \n",
       "         Neg Pred Value : 0.7477          \n",
       "             Prevalence : 0.4628          \n",
       "         Detection Rate : 0.3191          \n",
       "   Detection Prevalence : 0.4309          \n",
       "      Balanced Accuracy : 0.7409          \n",
       "                                          \n",
       "       'Positive' Class : no              \n",
       "                                          "
      ]
     },
     "metadata": {},
     "output_type": "display_data"
    }
   ],
   "source": [
    "set.seed(2020)\n",
    "model <- train(inlf~.,data=train.data,method=\"svmPoly\",\n",
    "              trControl=trainControl(\"cv\",number=10),\n",
    "              preProcess=c(\"center\",\"scale\"),\n",
    "              tuneLength=4\n",
    "              )\n",
    "model$bestTune\n",
    "predicted.classes <- model %>% predict(test.data)\n",
    "## assessing model accuracy\n",
    "confusionMatrix(data = factor(test.data$inlf,labels=c(\"no\",\"yes\")),\n",
    "                reference = factor(predicted.classes,labels=c(\"no\",\"yes\")))"
   ]
  },
  {
   "cell_type": "code",
   "execution_count": null,
   "metadata": {},
   "outputs": [],
   "source": []
  }
 ],
 "metadata": {
  "hide_input": false,
  "kernelspec": {
   "display_name": "R",
   "language": "R",
   "name": "ir"
  },
  "language_info": {
   "codemirror_mode": "r",
   "file_extension": ".r",
   "mimetype": "text/x-r-source",
   "name": "R",
   "pygments_lexer": "r",
   "version": "3.6.1"
  }
 },
 "nbformat": 4,
 "nbformat_minor": 2
}
