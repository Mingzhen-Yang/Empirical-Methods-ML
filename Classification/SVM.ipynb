{
 "cells": [
  {
   "cell_type": "markdown",
   "metadata": {
    "slideshow": {
     "slide_type": "slide"
    }
   },
   "source": [
    "# Support Vector Machine"
   ]
  },
  {
   "cell_type": "markdown",
   "metadata": {
    "slideshow": {
     "slide_type": "slide"
    }
   },
   "source": [
    "### What is a *Hyperplane*?\n",
    "\n",
    "In a $k$-dimensional space, a [hyperplane](https://en.wikipedia.org/wiki/Hyperplane) is a flat affine subspace of dimension $k-1$. For instance, in two dimensions, a hyperplane is a flat one-dimensional subspace - in other words, a line. In three dimensions, a hyperplane is a flat two-dimensional subspace - that is, a plane. In $k>3$ dimensions, it can be hard to visualize a hyperplane, but the notion of a $(k-1)$ -dimensional flat subspace still applies.\n",
    "\n",
    "The mathematical definition of a hyperplane is quite simple. In two dimensions, a hyperplane is defined by the equation\n",
    "\n",
    "$$\n",
    "\\beta_{0}+\\beta_{1} X_{1}+\\beta_{2} X_{2}=0\n",
    "$$\n",
    "\n",
    "for parameters $\\beta_{0}, \\beta_{1}$, and $\\beta_{2}$. When we say that the above equation \"defines\" the hyperplane, we mean that any $X=\\left(X_{1}, X_{2}\\right)^{\\prime}$ for which the equation holds is a point on the hyperplane. Note this equation is simply the equation of a line, since indeed in two dimensions a hyperplane is a line."
   ]
  },
  {
   "cell_type": "markdown",
   "metadata": {
    "slideshow": {
     "slide_type": "subslide"
    }
   },
   "source": [
    "Clearly in th multidimensional case one has\n",
    "\n",
    "$$\n",
    "\\begin{aligned}\n",
    "\\beta_{0}+\\beta_{1} X_{1}+\\beta_{2} X_{2}+\\ldots+\\beta_{k} X_{k}&=0\\\\\n",
    "\\mathbf{x}^{\\prime}\\boldsymbol{\\beta}&=0,\n",
    "\\end{aligned}\n",
    "$$\n",
    "\n",
    "and this defines a $k$-dimensional hyperplane in the sense that if $X=[X_1,X_2,\\ldots,X_k]^{\\prime}\\in\\mathbb{R}^{k}$ satisfies $\\mathbf{x}^{\\prime}\\boldsymbol{\\beta}=0$, then it is said that $X$ *lies* on the hyperplane."
   ]
  },
  {
   "cell_type": "markdown",
   "metadata": {
    "slideshow": {
     "slide_type": "subslide"
    }
   },
   "source": [
    "Now, suppose that $X$ does not satisfy $\\mathbf{x}^{\\prime}\\boldsymbol{\\beta}=0$ rather,\n",
    "$$\n",
    "\\begin{aligned}\n",
    "\\beta_{0}+\\beta_{1} X_{1}+\\beta_{2} X_{2}+\\ldots+\\beta_{k} X_{k}&>0\\\\\n",
    "\\mathbf{x}^{\\prime}\\boldsymbol{\\beta}&>0.\n",
    "\\end{aligned}\n",
    "$$\n",
    "\n",
    "Then this tells us that $X$ lies to one side of the hyperplane. "
   ]
  },
  {
   "cell_type": "markdown",
   "metadata": {
    "slideshow": {
     "slide_type": "subslide"
    }
   },
   "source": [
    "On the other hand, if\n",
    "$$\n",
    "\\begin{aligned}\n",
    "\\beta_{0}+\\beta_{1} X_{1}+\\beta_{2} X_{2}+\\ldots+\\beta_{k} X_{k}&<0\\\\\n",
    "\\mathbf{x}^{\\prime}\\boldsymbol{\\beta}&<0.\n",
    "\\end{aligned}\n",
    "$$\n",
    "then $X$ lies on the other side of the hyperplane. So we can think of the hyperplane as dividing p-dimensional space into two halves. One can easily determine on which side of the hyperplane a point lies by simply calculating the sign of the left hand side of $\\mathbf{x}^{\\prime}\\boldsymbol{\\beta}$."
   ]
  },
  {
   "attachments": {},
   "cell_type": "markdown",
   "metadata": {
    "slideshow": {
     "slide_type": "slide"
    }
   },
   "source": [
    "<div>\n",
    "<img src=\"img/91.png\" width=\"700\" align=\"center\"/>\n",
    "</div>\n",
    "👆🏼 The hyperplane $1+2 X_{1}+3 X_{2}=0$ is shown. The blue region is\n",
    "the set of points for which $1+2 X_{1}+3 X_{2}>0$, and the purple region is the set of\n",
    "points for which $1+2 X_{1}+3 X_{2}<0$."
   ]
  },
  {
   "attachments": {},
   "cell_type": "markdown",
   "metadata": {
    "slideshow": {
     "slide_type": "slide"
    }
   },
   "source": [
    "#### Classification using a *Separating* Hyperplane\n",
    "\n",
    "<div>\n",
    "<img src=\"img/92.png\" width=\"1000\" align=\"center\"/>\n",
    "</div>\n",
    "\n"
   ]
  },
  {
   "attachments": {},
   "cell_type": "markdown",
   "metadata": {
    "slideshow": {
     "slide_type": "fragment"
    }
   },
   "source": [
    "Suppose we have observations $\\{(y_{1},x_{1,1},x_{1,2}), (y_{2},x_{2,1},x_{2,2}),\\ldots,(y_{n},x_{n1},x_{n2})\\}$ and we know that these $n$ observations fall into two classes - that is $\\{y_1,y_2,\\ldots,y_n\\}\\in\\{-1,1\\}$ where -1 represents one class (<font color='purple'>purple</font>) and 1 the other class (<font color='blue'>blue</font>). *Left*: Three (out of many) possible separating hyperplanes. *Right*: Decision rule made by a *classifier* based on this particular hyperplane (black line). If a test observation falls in the blue portion of the grid, it will be assigned to the <font color='blue'>blue</font> case, and to the <font color='purple'>purple</font> otherwise."
   ]
  },
  {
   "cell_type": "markdown",
   "metadata": {
    "slideshow": {
     "slide_type": "subslide"
    }
   },
   "source": [
    "Then a separating hyperplane for any $k$ has the property that\n",
    "\n",
    "$$\n",
    "\\beta_{0}+\\beta_{1} x_{i, 1}+\\beta_{2} x_{i, 2}+\\ldots+\\beta_{k} x_{i, k}>0 \\text { if } y_{i}=1\n",
    "$$\n",
    "and\n",
    "$$\n",
    "\\beta_{0}+\\beta_{1} x_{i, 1}+\\beta_{2} x_{i, 2}+\\ldots+\\beta_{k} x_{i, k}<0 \\text { if } y_{i}=-1\\text{.}\n",
    "$$\n",
    "Equivalently, a separating hyperplane has the property that\n",
    "$$\n",
    "y_{i}\\left(\\beta_{0}+\\beta_{1} x_{i, 1}+\\beta_{2} x_{i, 2}+\\ldots+\\beta_{k} x_{i, k}\\right)>0\n",
    "$$\n",
    "for all $i=1, \\ldots, n$ since $y_i\\in\\{-1,1\\}$."
   ]
  },
  {
   "cell_type": "markdown",
   "metadata": {
    "slideshow": {
     "slide_type": "fragment"
    }
   },
   "source": [
    "<ins>Example</ins>: Imagine we are given a *test* observation $\\mathbf{x}^\\ast=\\left[x_{1}^\\ast,\\ldots,x_{k}^\\ast\\right]^\\prime$, then we 'assign' it to a class based on the sign of $\\mathbf{x}^{\\ast\\prime}\\boldsymbol{\\beta}=:f(\\mathbf{x}^\\ast)$, i.e., if $f(\\mathbf{x}^\\ast)>0$ then we assign this test observation to class 1, and if $f(\\mathbf{x}^\\ast)<0$ then we assign it to class -1."
   ]
  },
  {
   "cell_type": "markdown",
   "metadata": {
    "slideshow": {
     "slide_type": "fragment"
    }
   },
   "source": [
    "The **magnitude** of $f(\\mathbf{x}^\\ast)$ is also useful, since $f(\\mathbf{x}^\\ast)$ being far from zero makes us confident about its classification, but when $f(\\mathbf{x}^\\ast)$ is close to zero, then $\\mathbf{x}^\\ast$ is located near the hyperplane, and so we are less confident about the class assignment for it."
   ]
  },
  {
   "attachments": {},
   "cell_type": "markdown",
   "metadata": {
    "slideshow": {
     "slide_type": "slide"
    }
   },
   "source": [
    "#### The Maximal Margin Classifier\n",
    "\n",
    "<div class=\"foo\">\n",
    "    \n",
    "&nbsp; &nbsp; &nbsp; &nbsp; &nbsp; &nbsp; &nbsp; &nbsp; &nbsp; &nbsp; &nbsp; &nbsp;| &nbsp; \n",
    "------ | -----\n",
    "<div><img src=\"img/93.png\" width=\"5500\" align=\"center\"/></div> | We can compute the (perpendicular) distance from each training observation to a given separating hyperplane; the smallest such distance is the minimal distance from the observations to the hyperplane, and is known as the *margin*. The maximal margin hyperplane is the separating hyperplane for which the margin is largest—that is, it is the hyperplane that has the farthest minimum distance to the training observations. We can then classify a test observation based on which side of the maximal margin hyperplane it lies. This is known as the **maximal margin classifier**. <ins>Example</ins>: we see that three training observations are equidistant from the maximal margin hyperplane and lie along the dashed lines indicating the width of the margin. These three observations are known as **support vectors**, since they are vectors in $k$-dimensional space ($k = 2$), and they \"support\" the maximal margin hyperplane in the sense vector that if these points were moved slightly then the maximal margin hyperplane would move as well.\n",
    "\n",
    "</div>"
   ]
  },
  {
   "cell_type": "markdown",
   "metadata": {
    "slideshow": {
     "slide_type": "slide"
    }
   },
   "source": [
    "💻 This is a simulated data set of 10,000 observations and the objective is to build a machine that can predict loan ```default``` ('no' or 'yes') based on the ```balance``` and ```income``` of the customers."
   ]
  },
  {
   "cell_type": "code",
   "execution_count": 20,
   "metadata": {
    "slideshow": {
     "slide_type": "fragment"
    }
   },
   "outputs": [],
   "source": [
    "## installing the 'ISLR' package if not previously installed\n",
    "if (!require(ISLR)) install.packages('ISLR')\n",
    "\n",
    "data(Default)\n",
    "\n",
    "##  Obs:   10,000\n",
    "\n",
    "## 1. default     A factor with levels No and Yes indicating whether the customer defaulted on their debt\n",
    "## 2. student     A factor with levels No and Yes indicating whether the customer is a student\n",
    "## 3. balance     The average balance that the customer has remaining on their credit card after making their \n",
    "##                monthly payment\n",
    "## 4. income      Income of customer"
   ]
  },
  {
   "cell_type": "markdown",
   "metadata": {
    "slideshow": {
     "slide_type": "slide"
    }
   },
   "source": [
    "⚠️ <ins>The separating hyperplane might not exist</ins>, and so there is no maximal margin classifier."
   ]
  },
  {
   "cell_type": "code",
   "execution_count": 27,
   "metadata": {
    "slideshow": {
     "slide_type": "fragment"
    }
   },
   "outputs": [
    {
     "data": {
      "image/png": "[encoded data removed]",
      "text/plain": [
       "plot without title"
      ]
     },
     "metadata": {},
     "output_type": "display_data"
    }
   ],
   "source": [
    "## installing the 'lattice' package if not previously installed\n",
    "if (!require(lattice)) install.packages('lattice')\n",
    "\n",
    "xyplot(scale(balance) ~ scale(income), group=default, data=Default, \n",
    "       auto.key=list(space=\"right\"), \n",
    "       jitter.x=TRUE, jitter.y=TRUE)"
   ]
  },
  {
   "cell_type": "markdown",
   "metadata": {
    "slideshow": {
     "slide_type": "slide"
    }
   },
   "source": [
    "### Support Vector Classifier\n",
    "\n",
    "The support vector classifier classifies a test observation depending on which side of a hyperplane it lies. The hyperplane is chosen to correctly separate most of the training observations into the two classes, but <ins>may misclassify a few observations</ins>. It is the solution to the optimization problem\n",
    "\n",
    "$$\n",
    "\\begin{aligned}\n",
    "& \\underset{\\beta_{0}, \\beta_{1}, \\ldots, \\beta_{k}, \\epsilon_{1}, \\ldots, \\epsilon_{n}}{\\operatorname{maximimize}} M\\\\\n",
    "& {\\text { subject to } \\sum_{j=1}^{k} \\beta_{j}^{2}=1} \\\\\n",
    "& {y_{i}\\left(\\beta_{0}+\\beta_{1} x_{i,1}+\\beta_{2} x_{i,2}+\\ldots+\\beta_{k} x_{i,k}\\right) \\geq M\\left(1-\\epsilon_{i}\\right)} \\\\\n",
    "& {\\quad \\epsilon_{i} \\geq 0, \\quad \\sum_{i=1}^{n} \\epsilon_{i} \\leq C},\n",
    "\\end{aligned}\n",
    "$$\n",
    "\n",
    "where $C$ is a nonnegative tuning parameter, $M$ is the width of the margin (which we want to make as large as possible). The $\\epsilon_{1}, \\ldots, \\epsilon_{n}$ are *slack variables* that allow observations to be on the wrong side of the margin."
   ]
  },
  {
   "cell_type": "code",
   "execution_count": 23,
   "metadata": {
    "scrolled": true,
    "slideshow": {
     "slide_type": "slide"
    }
   },
   "outputs": [
    {
     "name": "stderr",
     "output_type": "stream",
     "text": [
      "Loading required package: tidyverse\n",
      "Warning message:\n",
      "\"package 'tidyverse' was built under R version 3.5.3\"-- \u001b[1mAttaching packages\u001b[22m --------------------------------------- tidyverse 1.2.1 --\n",
      "\u001b[32mv\u001b[39m \u001b[34mggplot2\u001b[39m 3.0.0       \u001b[32mv\u001b[39m \u001b[34mpurrr  \u001b[39m 0.2.5  \n",
      "\u001b[32mv\u001b[39m \u001b[34mtibble \u001b[39m 2.1.1       \u001b[32mv\u001b[39m \u001b[34mdplyr  \u001b[39m 0.8.0.\u001b[31m1\u001b[39m\n",
      "\u001b[32mv\u001b[39m \u001b[34mtidyr  \u001b[39m 0.8.1       \u001b[32mv\u001b[39m \u001b[34mstringr\u001b[39m 1.3.1  \n",
      "\u001b[32mv\u001b[39m \u001b[34mreadr  \u001b[39m 1.1.1       \u001b[32mv\u001b[39m \u001b[34mforcats\u001b[39m 0.3.0  \n",
      "Warning message:\n",
      "\"package 'ggplot2' was built under R version 3.5.1\"Warning message:\n",
      "\"package 'tibble' was built under R version 3.5.3\"Warning message:\n",
      "\"package 'tidyr' was built under R version 3.5.1\"Warning message:\n",
      "\"package 'readr' was built under R version 3.5.1\"Warning message:\n",
      "\"package 'purrr' was built under R version 3.5.1\"Warning message:\n",
      "\"package 'dplyr' was built under R version 3.5.3\"Warning message:\n",
      "\"package 'stringr' was built under R version 3.5.1\"Warning message:\n",
      "\"package 'forcats' was built under R version 3.5.1\"-- \u001b[1mConflicts\u001b[22m ------------------------------------------ tidyverse_conflicts() --\n",
      "\u001b[31mx\u001b[39m \u001b[34mdplyr\u001b[39m::\u001b[32mfilter()\u001b[39m  masks \u001b[34mstats\u001b[39m::filter()\n",
      "\u001b[31mx\u001b[39m \u001b[34mpurrr\u001b[39m::\u001b[32mflatten()\u001b[39m masks \u001b[34mjsonlite\u001b[39m::flatten()\n",
      "\u001b[31mx\u001b[39m \u001b[34mdplyr\u001b[39m::\u001b[32mlag()\u001b[39m     masks \u001b[34mstats\u001b[39m::lag()\n",
      "Loading required package: caret\n",
      "Warning message:\n",
      "\"package 'caret' was built under R version 3.5.1\"\n",
      "Attaching package: 'caret'\n",
      "\n",
      "The following object is masked from 'package:purrr':\n",
      "\n",
      "    lift\n",
      "\n"
     ]
    }
   ],
   "source": [
    "## installing the 'tidyverse' package if not previously installed\n",
    "if (!require(tidyverse)) install.packages('tidyverse')\n",
    "\n",
    "## installing the 'caret' package if not previously installed\n",
    "if (!require(caret)) install.packages('caret')\n",
    "\n",
    "## split the data into training and test set\n",
    "set.seed(2020)\n",
    "training.samples <- Default$default %>% \n",
    "  createDataPartition(p = 0.75, list = FALSE)\n",
    "train.data  <- Default[training.samples, ]\n",
    "test.data <- Default[-training.samples, ]"
   ]
  },
  {
   "cell_type": "code",
   "execution_count": 28,
   "metadata": {
    "slideshow": {
     "slide_type": "slide"
    }
   },
   "outputs": [],
   "source": [
    "set.seed(2020)\n",
    "model <- train(default~.,data=train.data,method=\"svmLinear\",\n",
    "              trControl=trainControl(\"cv\",number=10),\n",
    "              preProcess=c(\"center\",\"scale\")\n",
    "              )"
   ]
  },
  {
   "cell_type": "code",
   "execution_count": 29,
   "metadata": {
    "slideshow": {
     "slide_type": "slide"
    }
   },
   "outputs": [
    {
     "data": {
      "text/plain": [
       "Confusion Matrix and Statistics\n",
       "\n",
       "          Reference\n",
       "Prediction   No  Yes\n",
       "       No  2416    0\n",
       "       Yes   83    0\n",
       "                                         \n",
       "               Accuracy : 0.9668         \n",
       "                 95% CI : (0.959, 0.9735)\n",
       "    No Information Rate : 1              \n",
       "    P-Value [Acc > NIR] : 1              \n",
       "                                         \n",
       "                  Kappa : 0              \n",
       " Mcnemar's Test P-Value : <2e-16         \n",
       "                                         \n",
       "            Sensitivity : 0.9668         \n",
       "            Specificity :     NA         \n",
       "         Pos Pred Value :     NA         \n",
       "         Neg Pred Value :     NA         \n",
       "             Prevalence : 1.0000         \n",
       "         Detection Rate : 0.9668         \n",
       "   Detection Prevalence : 0.9668         \n",
       "      Balanced Accuracy :     NA         \n",
       "                                         \n",
       "       'Positive' Class : No             \n",
       "                                         "
      ]
     },
     "metadata": {},
     "output_type": "display_data"
    }
   ],
   "source": [
    "predicted.classes <- model %>% predict(test.data)\n",
    "\n",
    "## assessing model accuracy\n",
    "confusionMatrix(data = test.data$default,\n",
    "                reference = predicted.classes)"
   ]
  },
  {
   "cell_type": "code",
   "execution_count": 25,
   "metadata": {
    "slideshow": {
     "slide_type": "slide"
    }
   },
   "outputs": [
    {
     "data": {
      "text/html": [
       "<table>\n",
       "<caption>A data.frame: 1 × 2</caption>\n",
       "<thead>\n",
       "\t<tr><th></th><th scope=col>sigma</th><th scope=col>C</th></tr>\n",
       "\t<tr><th></th><th scope=col>&lt;dbl&gt;</th><th scope=col>&lt;dbl&gt;</th></tr>\n",
       "</thead>\n",
       "<tbody>\n",
       "\t<tr><th scope=row>4</th><td>0.9769618</td><td>2</td></tr>\n",
       "</tbody>\n",
       "</table>\n"
      ],
      "text/latex": [
       "A data.frame: 1 × 2\n",
       "\\begin{tabular}{r|ll}\n",
       "  & sigma & C\\\\\n",
       "  & <dbl> & <dbl>\\\\\n",
       "\\hline\n",
       "\t4 & 0.9769618 & 2\\\\\n",
       "\\end{tabular}\n"
      ],
      "text/markdown": [
       "\n",
       "A data.frame: 1 × 2\n",
       "\n",
       "| <!--/--> | sigma &lt;dbl&gt; | C &lt;dbl&gt; |\n",
       "|---|---|---|\n",
       "| 4 | 0.9769618 | 2 |\n",
       "\n"
      ],
      "text/plain": [
       "  sigma     C\n",
       "4 0.9769618 2"
      ]
     },
     "metadata": {},
     "output_type": "display_data"
    },
    {
     "data": {
      "text/plain": [
       "Confusion Matrix and Statistics\n",
       "\n",
       "          Reference\n",
       "Prediction   No  Yes\n",
       "       No  2407    9\n",
       "       Yes   61   22\n",
       "                                          \n",
       "               Accuracy : 0.972           \n",
       "                 95% CI : (0.9647, 0.9781)\n",
       "    No Information Rate : 0.9876          \n",
       "    P-Value [Acc > NIR] : 1               \n",
       "                                          \n",
       "                  Kappa : 0.3747          \n",
       " Mcnemar's Test P-Value : 1.09e-09        \n",
       "                                          \n",
       "            Sensitivity : 0.9753          \n",
       "            Specificity : 0.7097          \n",
       "         Pos Pred Value : 0.9963          \n",
       "         Neg Pred Value : 0.2651          \n",
       "             Prevalence : 0.9876          \n",
       "         Detection Rate : 0.9632          \n",
       "   Detection Prevalence : 0.9668          \n",
       "      Balanced Accuracy : 0.8425          \n",
       "                                          \n",
       "       'Positive' Class : No              \n",
       "                                          "
      ]
     },
     "metadata": {},
     "output_type": "display_data"
    }
   ],
   "source": [
    "set.seed(24)\n",
    "model <- train(default~.,data=train.data,method=\"svmRadial\",\n",
    "              trControl=trainControl(\"cv\",number=10),\n",
    "              preProcess=c(\"center\",\"scale\"),\n",
    "              tuneLength=10\n",
    "              )\n",
    "model$bestTune\n",
    "predicted.classes <- model %>% predict(test.data)\n",
    "## assessing model accuracy\n",
    "confusionMatrix(data = test.data$default,\n",
    "                reference = predicted.classes)"
   ]
  },
  {
   "cell_type": "code",
   "execution_count": 26,
   "metadata": {
    "slideshow": {
     "slide_type": "slide"
    }
   },
   "outputs": [
    {
     "data": {
      "text/html": [
       "<table>\n",
       "<caption>A data.frame: 1 × 3</caption>\n",
       "<thead>\n",
       "\t<tr><th></th><th scope=col>degree</th><th scope=col>scale</th><th scope=col>C</th></tr>\n",
       "\t<tr><th></th><th scope=col>&lt;int&gt;</th><th scope=col>&lt;dbl&gt;</th><th scope=col>&lt;dbl&gt;</th></tr>\n",
       "</thead>\n",
       "<tbody>\n",
       "\t<tr><th scope=row>47</th><td>3</td><td>1</td><td>1</td></tr>\n",
       "</tbody>\n",
       "</table>\n"
      ],
      "text/latex": [
       "A data.frame: 1 × 3\n",
       "\\begin{tabular}{r|lll}\n",
       "  & degree & scale & C\\\\\n",
       "  & <int> & <dbl> & <dbl>\\\\\n",
       "\\hline\n",
       "\t47 & 3 & 1 & 1\\\\\n",
       "\\end{tabular}\n"
      ],
      "text/markdown": [
       "\n",
       "A data.frame: 1 × 3\n",
       "\n",
       "| <!--/--> | degree &lt;int&gt; | scale &lt;dbl&gt; | C &lt;dbl&gt; |\n",
       "|---|---|---|---|\n",
       "| 47 | 3 | 1 | 1 |\n",
       "\n"
      ],
      "text/plain": [
       "   degree scale C\n",
       "47 3      1     1"
      ]
     },
     "metadata": {},
     "output_type": "display_data"
    },
    {
     "data": {
      "text/plain": [
       "Confusion Matrix and Statistics\n",
       "\n",
       "          Reference\n",
       "Prediction   No  Yes\n",
       "       No  2411    5\n",
       "       Yes   62   21\n",
       "                                          \n",
       "               Accuracy : 0.9732          \n",
       "                 95% CI : (0.9661, 0.9792)\n",
       "    No Information Rate : 0.9896          \n",
       "    P-Value [Acc > NIR] : 1               \n",
       "                                          \n",
       "                  Kappa : 0.3754          \n",
       " Mcnemar's Test P-Value : 7.837e-12       \n",
       "                                          \n",
       "            Sensitivity : 0.9749          \n",
       "            Specificity : 0.8077          \n",
       "         Pos Pred Value : 0.9979          \n",
       "         Neg Pred Value : 0.2530          \n",
       "             Prevalence : 0.9896          \n",
       "         Detection Rate : 0.9648          \n",
       "   Detection Prevalence : 0.9668          \n",
       "      Balanced Accuracy : 0.8913          \n",
       "                                          \n",
       "       'Positive' Class : No              \n",
       "                                          "
      ]
     },
     "metadata": {},
     "output_type": "display_data"
    }
   ],
   "source": [
    "set.seed(2020)\n",
    "model <- train(default~.,data=train.data,method=\"svmPoly\",\n",
    "              trControl=trainControl(\"cv\",number=10),\n",
    "              preProcess=c(\"center\",\"scale\"),\n",
    "              tuneLength=4\n",
    "              )\n",
    "model$bestTune\n",
    "predicted.classes <- model %>% predict(test.data)\n",
    "## assessing model accuracy\n",
    "confusionMatrix(data = test.data$default,\n",
    "                reference = predicted.classes)"
   ]
  },
  {
   "cell_type": "code",
   "execution_count": null,
   "metadata": {},
   "outputs": [],
   "source": []
  }
 ],
 "metadata": {
  "celltoolbar": "Slideshow",
  "hide_input": false,
  "kernelspec": {
   "display_name": "R",
   "language": "R",
   "name": "ir"
  },
  "language_info": {
   "codemirror_mode": "r",
   "file_extension": ".r",
   "mimetype": "text/x-r-source",
   "name": "R",
   "pygments_lexer": "r",
   "version": "3.5.0"
  }
 },
 "nbformat": 4,
 "nbformat_minor": 2
}
