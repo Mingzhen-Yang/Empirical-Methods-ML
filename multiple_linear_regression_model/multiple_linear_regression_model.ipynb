{
  "cells": [
    {
      "metadata": {},
      "cell_type": "markdown",
      "source": "# _Multiple_ Linear Regression (MLR) Model"
    },
    {
      "metadata": {},
      "cell_type": "markdown",
      "source": "## The Model"
    },
    {
      "metadata": {},
      "cell_type": "markdown",
      "source": "In the population we have <ins>scalar</ins> random variables, $[Y,X_1,\\ldots,X_{k},U]$, that fulfill the following relationship\n\n$$\n\\begin{align*}\nY=\\beta_0+\\beta_1 X_1+\\ldots+\\beta_k X_k+U\\text{,}\n\\end{align*}\n$$\n\nwhere $E[U|X_1,\\ldots,X_{k}]=0$, there are no exact linear relationships among the set of regressors (covariates, confounders, independent variables, predictors, etc.) $[X_1,\\ldots,X_{k}]$, and var$(U|X_1,\\ldots,X_{k})<+\\infty$. The scalar random variable, $Y$, is called the outcome, or the dependent variable.\n\n\n\n<p style='text-align: right;'> <a href=\"https://en.wikipedia.org/wiki/Conditional_expectation\" style=\"color: #cc0000\">Conditional Expectation</a></p>\n\n<p style='text-align: right;'> <a href=\"https://en.wikipedia.org/wiki/Conditional_variance\" style=\"color: #cc0000\">Conditional Variance</a></p>\n"
    },
    {
      "metadata": {},
      "cell_type": "markdown",
      "source": "## The Data"
    },
    {
      "metadata": {},
      "cell_type": "markdown",
      "source": "We observe a _random sample_ of $n$ observations taken from $[Y,X_1,\\ldots,X_{k},U]$, i.e., $\\{(y_i,x_{i,1},\\ldots,x_{i,k}):i=1,\\ldots,n\\}$. Therefore one has\n\n$$%\n\\begin{array}\n[c]{c}%\ny_{1}=\\beta_{0}+\\beta_{1}x_{1,1}+\\cdots+\\beta_{k}x_{1,k}+u_{1}\\\\\ny_{2}=\\beta_{0}+\\beta_{1}x_{2,1}+\\cdots+\\beta_{k}x_{2,k}+u_{2}\\\\\ny_{3}=\\beta_{0}+\\beta_{1}x_{3,1}+\\cdots+\\beta_{k}x_{3,k}+u_{3}\\\\\n\\vdots\\\\\ny_{n}=\\beta_{0}+\\beta_{1}x_{n,1}+\\cdots+\\beta_{k}x_{n,k}+u_{n}%\n\\end{array}\n$$ or equivalently\n$$\\left[\n\\begin{array}\n[c]{c}%\ny_{1}\\\\\ny_{2}\\\\\ny_{3}\\\\\n\\vdots\\\\\ny_{n}%\n\\end{array}\n\\right]  =\\left[\n\\begin{array}\n[c]{cccc}%\n1 & x_{1,1} & \\cdots & x_{1,k}\\\\\n1 & x_{2,1} & \\cdots & x_{2,k}\\\\\n1 & x_{3,1} & \\cdots & x_{3,k}\\\\\n\\vdots & \\vdots & \\ddots & \\vdots\\\\\n1 & x_{n,1} & \\cdots & x_{n,k}%\n\\end{array}\n\\right]  \\left[\n\\begin{array}\n[c]{c}%\n\\beta_{0}\\\\\n\\beta_{1}\\\\\n\\vdots\\\\\n\\beta_{k}%\n\\end{array}\n\\right]  +\\left[\n\\begin{array}\n[c]{c}%\nu_{1}\\\\\nu_{2}\\\\\nu_{3}\\\\\n\\vdots\\\\\nu_{n}%\n\\end{array}\n\\right]\n$$ that can be rewritten in **matrix form**  as\n\n$$\n\\begin{align*}\n\\mathbf{y}=\\mathbf{X}\\mathbf{\\beta}+\\mathbf{u}\\text{,}\n\\end{align*}\n$$\n\nwhere $\\mathbf{y}$ is a $n\\times 1$ [vector](https://en.wikipedia.org/wiki/Vector_(mathematics_and_physics)), $\\mathbf{X}$ is a $n\\times(k+1)$ [matrix](https://en.wikipedia.org/wiki/Matrix_(mathematics)) - sometimes called the [*design matrix*](https://en.wikipedia.org/wiki/Design_matrix), $\\mathbf{\\beta}$ is a $(k+1)\\times 1$ vector of <ins>unknown</ins> parameters, and $\\mathbf{u}$ is a $n\\times 1$ vector."
    },
    {
      "metadata": {},
      "cell_type": "markdown",
      "source": "## The Assumptions"
    },
    {
      "metadata": {},
      "cell_type": "markdown",
      "source": "<span style=\"color:blue\">**Assumption MLR.1:**</span> $\\mathbf{y}=\\mathbf{X}\\mathbf{\\beta}+\\mathbf{u}$.\n\n<span style=\"color:blue\">**Assumption MLR.2:**</span> $\\{(y_i,x_{i,1},\\ldots,x_{i,k}):i=1,\\ldots,n\\}$ is a random sample (independent and identically distributed - i.i.d.).\n\n<span style=\"color:blue\">**Assumption MLR.3:**</span> rank$[E(\\mathbf{x}_i\\mathbf{x}_i^\\prime)]=k+1$, where $\\mathbf{x}_i^\\prime=[1,x_{i,1},\\ldots,x_{i,k}]$. <p style='text-align: right;'> <a href=\"https://en.wikipedia.org/wiki/Rank_(linear_algebra)\" style=\"color: #cc0000\">Rank of a Matrix</a></p>\n<p style='text-align: right;'> <a href=\"https://en.wikipedia.org/wiki/Transpose\" style=\"color: #cc0000\">Transpose</a></p> <p style='text-align: right;'> <a href=\"https://en.wikipedia.org/wiki/Expected_value\" style=\"color: #cc0000\">Expected Value</a></p>\n\n<span style=\"color:blue\">**Assumption MLR.4:**</span> $E[\\mathbf{u}|\\mathbf{X}]=\\mathbf{0}$.\n\n$$E[\\mathbf{u}|\\mathbf{X}]=\\left[\n\\begin{array}\n[c]{c}%\nE[u_{1}|\\mathbf{X}]\\\\\nE[u_{2}|\\mathbf{X}]\\\\\nE[u_{3}|\\mathbf{X}]\\\\\n\\vdots\\\\\nE[u_{n}|\\mathbf{X}]\n\\end{array}\n\\right]  =\\left[\n\\begin{array}\n[c]{c}%\n0\\\\\n0\\\\\n0\\\\\n\\vdots\\\\\n0\n\\end{array}\n\\right]=\\mathbf{0}  $$\n\n<span style=\"color:blue\">**Assumption MLR.4:**</span> var$(\\mathbf{u}\\mathbf{u}^{\\prime}|\\mathbf{X})=E[\\mathbf{u}\\mathbf{u}^{\\prime}|\\mathbf{X}]=\\Omega$, where $|\\Omega|<+\\infty$.\n\n$$E[\\mathbf{u}\\mathbf{u}^{\\prime}|\\mathbf{X}]=\\left[\n\\begin{array}\n[c]{cccc}%\nE[u_{1}^{2}|\\mathbf{X}] & E[u_{1}u_{2}|\\mathbf{X}] & \\cdots & E[u_{1}%\nu_{n}|\\mathbf{X}]\\\\\nE[u_{2}u_{1}|\\mathbf{X}] & E[u_{2}^{2}|\\mathbf{X}] & \\cdots & E[u_{2}%\nu_{n}|\\mathbf{X}]\\\\\nE[u_{3}u_{1}|\\mathbf{X}] & E[u_{3}u_{2}|\\mathbf{X}] & \\cdots & E[u_{3}%\nu_{n}|\\mathbf{X}]\\\\\n\\vdots & \\vdots & \\ddots & \\vdots\\\\\nE[u_{n}u_{1}|\\mathbf{X}] & E[u_{n}u_{2}|\\mathbf{X}] & \\cdots & E[u_{n}%\n^{2}|\\mathbf{X}]\n\\end{array}\n\\right]  =\\Omega$$\n\n<p style='text-align: right;'> <a href=\"https://en.wikipedia.org/wiki/Determinant\" style=\"color: #cc0000\">Determinant</a></p>\n"
    },
    {
      "metadata": {
        "trusted": false
      },
      "cell_type": "code",
      "source": "",
      "execution_count": null,
      "outputs": []
    }
  ],
  "metadata": {
    "kernelspec": {
      "name": "r",
      "display_name": "R",
      "language": "R"
    },
    "language_info": {
      "mimetype": "text/x-r-source",
      "name": "R",
      "pygments_lexer": "r",
      "version": "3.5.3",
      "file_extension": ".r",
      "codemirror_mode": "r"
    }
  },
  "nbformat": 4,
  "nbformat_minor": 2
}