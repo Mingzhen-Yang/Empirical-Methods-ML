{
 "cells": [
  {
   "cell_type": "markdown",
   "metadata": {},
   "source": [
    "# _Multiple_ Linear Regression (MLR) Model"
   ]
  },
  {
   "cell_type": "markdown",
   "metadata": {},
   "source": [
    "## The Model"
   ]
  },
  {
   "cell_type": "markdown",
   "metadata": {},
   "source": [
    "In the population we have <ins>scalar</ins> random variables, $[Y,X_1,\\ldots,X_{k},U]$, that fulfill the following relationship\n",
    "\n",
    "$$\n",
    "\\begin{align*}\n",
    "Y=\\beta_0+\\beta_1 X_1+\\ldots+\\beta_k X_k+U\\text{,}\n",
    "\\end{align*}\n",
    "$$\n",
    "\n",
    "where $E[U|X_1,\\ldots,X_{k}]=0$, there are no exact linear relationships among the set of regressors (covariates, confounders, independent variables, predictors, etc.) $[X_1,\\ldots,X_{k}]$, and var$(U|X_1,\\ldots,X_{k})<+\\infty$. The scalar random variable, $Y$, is called the outcome, or the dependent variable.\n",
    "\n",
    "\n",
    "\n",
    "<p style='text-align: right;'> <a href=\"https://en.wikipedia.org/wiki/Conditional_expectation\" style=\"color: #cc0000\">Conditional Expectation</a></p>\n",
    "\n",
    "<p style='text-align: right;'> <a href=\"https://en.wikipedia.org/wiki/Conditional_variance\" style=\"color: #cc0000\">Conditional Variance</a></p>\n"
   ]
  },
  {
   "cell_type": "markdown",
   "metadata": {},
   "source": [
    "## The Data"
   ]
  },
  {
   "cell_type": "markdown",
   "metadata": {},
   "source": [
    "We observe a _random sample_ of $n$ observations taken from $[Y,X_1,\\ldots,X_{k},U]$, i.e., $\\{(y_i,x_{i,1},\\ldots,x_{i,k}):i=1,\\ldots,n\\}$. Therefore one has\n",
    "\n",
    "$$%\n",
    "\\begin{array}\n",
    "[c]{c}%\n",
    "y_{1}=\\beta_{0}+\\beta_{1}x_{1,1}+\\cdots+\\beta_{k}x_{1,k}+u_{1}\\\\\n",
    "y_{2}=\\beta_{0}+\\beta_{1}x_{2,1}+\\cdots+\\beta_{k}x_{2,k}+u_{2}\\\\\n",
    "y_{3}=\\beta_{0}+\\beta_{1}x_{3,1}+\\cdots+\\beta_{k}x_{3,k}+u_{3}\\\\\n",
    "\\vdots\\\\\n",
    "y_{n}=\\beta_{0}+\\beta_{1}x_{n,1}+\\cdots+\\beta_{k}x_{n,k}+u_{n}%\n",
    "\\end{array}\n",
    "$$ or equivalently\n",
    "$$\\left[\n",
    "\\begin{array}\n",
    "[c]{c}%\n",
    "y_{1}\\\\\n",
    "y_{2}\\\\\n",
    "y_{3}\\\\\n",
    "\\vdots\\\\\n",
    "y_{n}%\n",
    "\\end{array}\n",
    "\\right]  =\\left[\n",
    "\\begin{array}\n",
    "[c]{cccc}%\n",
    "1 & x_{1,1} & \\cdots & x_{1,k}\\\\\n",
    "1 & x_{2,1} & \\cdots & x_{2,k}\\\\\n",
    "1 & x_{3,1} & \\cdots & x_{3,k}\\\\\n",
    "\\vdots & \\vdots & \\ddots & \\vdots\\\\\n",
    "1 & x_{n,1} & \\cdots & x_{n,k}%\n",
    "\\end{array}\n",
    "\\right]  \\left[\n",
    "\\begin{array}\n",
    "[c]{c}%\n",
    "\\beta_{0}\\\\\n",
    "\\beta_{1}\\\\\n",
    "\\vdots\\\\\n",
    "\\beta_{k}%\n",
    "\\end{array}\n",
    "\\right]  +\\left[\n",
    "\\begin{array}\n",
    "[c]{c}%\n",
    "u_{1}\\\\\n",
    "u_{2}\\\\\n",
    "u_{3}\\\\\n",
    "\\vdots\\\\\n",
    "u_{n}%\n",
    "\\end{array}\n",
    "\\right]\n",
    "$$ that can be rewritten in **matrix form**  as\n",
    "\n",
    "$$\n",
    "\\begin{align*}\n",
    "\\mathbf{y}=\\mathbf{X}\\mathbf{\\beta}+\\mathbf{u}\\text{,}\n",
    "\\end{align*}\n",
    "$$\n",
    "\n",
    "where $\\mathbf{y}$ is a $n\\times 1$ [vector](https://en.wikipedia.org/wiki/Vector_(mathematics_and_physics)), $\\mathbf{X}$ is a $n\\times(k+1)$ [matrix](https://en.wikipedia.org/wiki/Matrix_(mathematics)) - sometimes called the [*design matrix*](https://en.wikipedia.org/wiki/Design_matrix), $\\mathbf{\\beta}$ is a $(k+1)\\times 1$ vector of <ins>unknown</ins> parameters, and $\\mathbf{u}$ is a $n\\times 1$ vector."
   ]
  },
  {
   "cell_type": "code",
   "execution_count": 3,
   "metadata": {},
   "outputs": [
    {
     "data": {
      "text/html": [
       "<table>\n",
       "<caption>A data.frame: 6 × 12</caption>\n",
       "<thead>\n",
       "\t<tr><th scope=col>price</th><th scope=col>crime</th><th scope=col>nox</th><th scope=col>rooms</th><th scope=col>dist</th><th scope=col>radial</th><th scope=col>proptax</th><th scope=col>stratio</th><th scope=col>lowstat</th><th scope=col>lprice</th><th scope=col>lnox</th><th scope=col>lproptax</th></tr>\n",
       "\t<tr><th scope=col>&lt;dbl&gt;</th><th scope=col>&lt;dbl&gt;</th><th scope=col>&lt;dbl&gt;</th><th scope=col>&lt;dbl&gt;</th><th scope=col>&lt;dbl&gt;</th><th scope=col>&lt;int&gt;</th><th scope=col>&lt;dbl&gt;</th><th scope=col>&lt;dbl&gt;</th><th scope=col>&lt;dbl&gt;</th><th scope=col>&lt;dbl&gt;</th><th scope=col>&lt;dbl&gt;</th><th scope=col>&lt;dbl&gt;</th></tr>\n",
       "</thead>\n",
       "<tbody>\n",
       "\t<tr><td>24000</td><td>0.006</td><td>5.38</td><td>6.57</td><td>4.09</td><td>1</td><td>29.6</td><td>15.3</td><td>4.98</td><td>10.085809</td><td>1.682688</td><td>5.690360</td></tr>\n",
       "\t<tr><td>21599</td><td>0.027</td><td>4.69</td><td>6.42</td><td>4.97</td><td>2</td><td>24.2</td><td>17.8</td><td>9.14</td><td> 9.980402</td><td>1.545433</td><td>5.488938</td></tr>\n",
       "\t<tr><td>34700</td><td>0.027</td><td>4.69</td><td>7.18</td><td>4.97</td><td>2</td><td>24.2</td><td>17.8</td><td>4.03</td><td>10.454495</td><td>1.545433</td><td>5.488938</td></tr>\n",
       "\t<tr><td>33400</td><td>0.032</td><td>4.58</td><td>7.00</td><td>6.06</td><td>3</td><td>22.2</td><td>18.7</td><td>2.94</td><td>10.416311</td><td>1.521699</td><td>5.402678</td></tr>\n",
       "\t<tr><td>36199</td><td>0.069</td><td>4.58</td><td>7.15</td><td>6.06</td><td>3</td><td>22.2</td><td>18.7</td><td>5.33</td><td>10.496787</td><td>1.521699</td><td>5.402678</td></tr>\n",
       "\t<tr><td>28701</td><td>0.030</td><td>4.58</td><td>6.43</td><td>6.06</td><td>3</td><td>22.2</td><td>18.7</td><td>5.21</td><td>10.264688</td><td>1.521699</td><td>5.402678</td></tr>\n",
       "</tbody>\n",
       "</table>\n"
      ],
      "text/latex": [
       "A data.frame: 6 × 12\n",
       "\\begin{tabular}{r|llllllllllll}\n",
       " price & crime & nox & rooms & dist & radial & proptax & stratio & lowstat & lprice & lnox & lproptax\\\\\n",
       " <dbl> & <dbl> & <dbl> & <dbl> & <dbl> & <int> & <dbl> & <dbl> & <dbl> & <dbl> & <dbl> & <dbl>\\\\\n",
       "\\hline\n",
       "\t 24000 & 0.006 & 5.38 & 6.57 & 4.09 & 1 & 29.6 & 15.3 & 4.98 & 10.085809 & 1.682688 & 5.690360\\\\\n",
       "\t 21599 & 0.027 & 4.69 & 6.42 & 4.97 & 2 & 24.2 & 17.8 & 9.14 &  9.980402 & 1.545433 & 5.488938\\\\\n",
       "\t 34700 & 0.027 & 4.69 & 7.18 & 4.97 & 2 & 24.2 & 17.8 & 4.03 & 10.454495 & 1.545433 & 5.488938\\\\\n",
       "\t 33400 & 0.032 & 4.58 & 7.00 & 6.06 & 3 & 22.2 & 18.7 & 2.94 & 10.416311 & 1.521699 & 5.402678\\\\\n",
       "\t 36199 & 0.069 & 4.58 & 7.15 & 6.06 & 3 & 22.2 & 18.7 & 5.33 & 10.496787 & 1.521699 & 5.402678\\\\\n",
       "\t 28701 & 0.030 & 4.58 & 6.43 & 6.06 & 3 & 22.2 & 18.7 & 5.21 & 10.264688 & 1.521699 & 5.402678\\\\\n",
       "\\end{tabular}\n"
      ],
      "text/markdown": [
       "\n",
       "A data.frame: 6 × 12\n",
       "\n",
       "| price &lt;dbl&gt; | crime &lt;dbl&gt; | nox &lt;dbl&gt; | rooms &lt;dbl&gt; | dist &lt;dbl&gt; | radial &lt;int&gt; | proptax &lt;dbl&gt; | stratio &lt;dbl&gt; | lowstat &lt;dbl&gt; | lprice &lt;dbl&gt; | lnox &lt;dbl&gt; | lproptax &lt;dbl&gt; |\n",
       "|---|---|---|---|---|---|---|---|---|---|---|---|\n",
       "| 24000 | 0.006 | 5.38 | 6.57 | 4.09 | 1 | 29.6 | 15.3 | 4.98 | 10.085809 | 1.682688 | 5.690360 |\n",
       "| 21599 | 0.027 | 4.69 | 6.42 | 4.97 | 2 | 24.2 | 17.8 | 9.14 |  9.980402 | 1.545433 | 5.488938 |\n",
       "| 34700 | 0.027 | 4.69 | 7.18 | 4.97 | 2 | 24.2 | 17.8 | 4.03 | 10.454495 | 1.545433 | 5.488938 |\n",
       "| 33400 | 0.032 | 4.58 | 7.00 | 6.06 | 3 | 22.2 | 18.7 | 2.94 | 10.416311 | 1.521699 | 5.402678 |\n",
       "| 36199 | 0.069 | 4.58 | 7.15 | 6.06 | 3 | 22.2 | 18.7 | 5.33 | 10.496787 | 1.521699 | 5.402678 |\n",
       "| 28701 | 0.030 | 4.58 | 6.43 | 6.06 | 3 | 22.2 | 18.7 | 5.21 | 10.264688 | 1.521699 | 5.402678 |\n",
       "\n"
      ],
      "text/plain": [
       "  price crime nox  rooms dist radial proptax stratio lowstat lprice    lnox    \n",
       "1 24000 0.006 5.38 6.57  4.09 1      29.6    15.3    4.98    10.085809 1.682688\n",
       "2 21599 0.027 4.69 6.42  4.97 2      24.2    17.8    9.14     9.980402 1.545433\n",
       "3 34700 0.027 4.69 7.18  4.97 2      24.2    17.8    4.03    10.454495 1.545433\n",
       "4 33400 0.032 4.58 7.00  6.06 3      22.2    18.7    2.94    10.416311 1.521699\n",
       "5 36199 0.069 4.58 7.15  6.06 3      22.2    18.7    5.33    10.496787 1.521699\n",
       "6 28701 0.030 4.58 6.43  6.06 3      22.2    18.7    5.21    10.264688 1.521699\n",
       "  lproptax\n",
       "1 5.690360\n",
       "2 5.488938\n",
       "3 5.488938\n",
       "4 5.402678\n",
       "5 5.402678\n",
       "6 5.402678"
      ]
     },
     "metadata": {},
     "output_type": "display_data"
    }
   ],
   "source": [
    "## removing everything from memory\n",
    "rm(list=ls())\n",
    "## turning all warnings off\n",
    "options(warn=-1)\n",
    "\n",
    "## installing the 'wooldridge' package if not previously installed\n",
    "if (!require(wooldridge)) install.packages('wooldridge')\n",
    "\n",
    "## loading the packages\n",
    "library(wooldridge)\n",
    "\n",
    "data(hprice2)\n",
    "\n",
    "##  hprice2\n",
    "##  Obs:   506\n",
    "\n",
    "##  1. price                    median housing price, $\n",
    "##  2. crime                    crimes committed per capita\n",
    "##  3. nox                      nitrous oxide, parts per 100 mill.\n",
    "##  4. rooms                    avg number of rooms per house\n",
    "##  5. dist                     weighted dist. to 5 employ centers\n",
    "##  6. radial                   accessibiliy index to radial hghwys\n",
    "##  7. proptax                  property tax per $1000\n",
    "##  8. stratio                  average student-teacher ratio\n",
    "##  9. lowstat                  % of people 'lower status'\n",
    "## 10. lprice                   log(price)\n",
    "## 11. lnox                     log(nox)\n",
    "## 12. lproptax                 log(proptax)\n",
    "\n",
    "head(hprice2)"
   ]
  },
  {
   "cell_type": "markdown",
   "metadata": {},
   "source": [
    "## The Assumptions"
   ]
  },
  {
   "cell_type": "markdown",
   "metadata": {},
   "source": [
    "<span style=\"color:blue\">**Assumption MLR.1:**</span> $\\mathbf{y}=\\mathbf{X}\\mathbf{\\beta}+\\mathbf{u}$."
   ]
  },
  {
   "cell_type": "code",
   "execution_count": 4,
   "metadata": {},
   "outputs": [
    {
     "name": "stdout",
     "output_type": "stream",
     "text": [
      "lprice ~ lnox + lproptax + crime + rooms + dist + radial + stratio + \n",
      "    lowstat\n"
     ]
    }
   ],
   "source": [
    "## specifying the outcome variable (y) and regressors (X)\n",
    "outcome <- \"lprice\"\n",
    "predictors <- c(\"lnox\", \"lproptax\", \"crime\", \"rooms\", \"dist\", \"radial\", \"stratio\", \"lowstat\")\n",
    "\n",
    "## creating a specification of the linear model\n",
    "f <- as.formula(\n",
    "  paste(outcome, \n",
    "        paste(predictors, collapse = \" + \"), \n",
    "        sep = \" ~ \"))\n",
    "print(f)"
   ]
  },
  {
   "cell_type": "markdown",
   "metadata": {},
   "source": [
    "<span style=\"color:blue\">**Assumption MLR.2:**</span> $\\{(y_i,x_{i,1},\\ldots,x_{i,k}):i=1,\\ldots,n\\}$ is a random sample (independent and identically distributed - i.i.d.).\n",
    "\n",
    "<span style=\"color:blue\">**Assumption MLR.3:**</span> rank$[E(\\mathbf{x}_i\\mathbf{x}_i^\\prime)]=k+1$, where $\\mathbf{x}_i^\\prime=[1,x_{i,1},\\ldots,x_{i,k}]$. <p style='text-align: right;'> <a href=\"https://en.wikipedia.org/wiki/Rank_(linear_algebra)\" style=\"color: #cc0000\">Rank of a Matrix</a></p>\n",
    "<p style='text-align: right;'> <a href=\"https://en.wikipedia.org/wiki/Transpose\" style=\"color: #cc0000\">Transpose</a></p> <p style='text-align: right;'> <a href=\"https://en.wikipedia.org/wiki/Expected_value\" style=\"color: #cc0000\">Expected Value</a></p>"
   ]
  },
  {
   "cell_type": "markdown",
   "metadata": {},
   "source": [
    "<span style=\"color:blue\">**Assumption MLR.4:**</span> $E[\\mathbf{u}|\\mathbf{X}]=\\mathbf{0}$.\n",
    "\n",
    "$$E[\\mathbf{u}|\\mathbf{X}]=\\left[\n",
    "\\begin{array}\n",
    "[c]{c}%\n",
    "E[u_{1}|\\mathbf{X}]\\\\\n",
    "E[u_{2}|\\mathbf{X}]\\\\\n",
    "E[u_{3}|\\mathbf{X}]\\\\\n",
    "\\vdots\\\\\n",
    "E[u_{n}|\\mathbf{X}]\n",
    "\\end{array}\n",
    "\\right]  =\\left[\n",
    "\\begin{array}\n",
    "[c]{c}%\n",
    "0\\\\\n",
    "0\\\\\n",
    "0\\\\\n",
    "\\vdots\\\\\n",
    "0\n",
    "\\end{array}\n",
    "\\right]=\\mathbf{0}  $$\n",
    "\n",
    "<span style=\"color:blue\">**Assumption MLR.4:**</span> var$(\\mathbf{u}\\mathbf{u}^{\\prime}|\\mathbf{X})=E[\\mathbf{u}\\mathbf{u}^{\\prime}|\\mathbf{X}]=\\Omega$, where $|\\Omega|<+\\infty$.\n",
    "\n",
    "$$E[\\mathbf{u}\\mathbf{u}^{\\prime}|\\mathbf{X}]=\\left[\n",
    "\\begin{array}\n",
    "[c]{cccc}%\n",
    "E[u_{1}^{2}|\\mathbf{X}] & E[u_{1}u_{2}|\\mathbf{X}] & \\cdots & E[u_{1}%\n",
    "u_{n}|\\mathbf{X}]\\\\\n",
    "E[u_{2}u_{1}|\\mathbf{X}] & E[u_{2}^{2}|\\mathbf{X}] & \\cdots & E[u_{2}%\n",
    "u_{n}|\\mathbf{X}]\\\\\n",
    "E[u_{3}u_{1}|\\mathbf{X}] & E[u_{3}u_{2}|\\mathbf{X}] & \\cdots & E[u_{3}%\n",
    "u_{n}|\\mathbf{X}]\\\\\n",
    "\\vdots & \\vdots & \\ddots & \\vdots\\\\\n",
    "E[u_{n}u_{1}|\\mathbf{X}] & E[u_{n}u_{2}|\\mathbf{X}] & \\cdots & E[u_{n}%\n",
    "^{2}|\\mathbf{X}]\n",
    "\\end{array}\n",
    "\\right]  =\\Omega$$\n",
    "\n",
    "<p style='text-align: right;'> <a href=\"https://en.wikipedia.org/wiki/Determinant\" style=\"color: #cc0000\">Determinant</a></p>\n"
   ]
  },
  {
   "cell_type": "code",
   "execution_count": null,
   "metadata": {},
   "outputs": [],
   "source": []
  }
 ],
 "metadata": {
  "kernelspec": {
   "display_name": "R",
   "language": "R",
   "name": "ir"
  },
  "language_info": {
   "codemirror_mode": "r",
   "file_extension": ".r",
   "mimetype": "text/x-r-source",
   "name": "R",
   "pygments_lexer": "r",
   "version": "3.5.0"
  }
 },
 "nbformat": 4,
 "nbformat_minor": 2
}
