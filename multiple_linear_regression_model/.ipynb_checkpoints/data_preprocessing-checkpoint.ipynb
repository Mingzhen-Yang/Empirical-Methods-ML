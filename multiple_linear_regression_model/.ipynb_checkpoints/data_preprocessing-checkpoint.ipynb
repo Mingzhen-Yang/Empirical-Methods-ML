{
 "cells": [
  {
   "cell_type": "markdown",
   "metadata": {},
   "source": [
    "# Data Pre-Processing"
   ]
  },
  {
   "cell_type": "markdown",
   "metadata": {},
   "source": [
    "## Dealing with [*Missing* Data](https://en.wikipedia.org/wiki/Missing_data)"
   ]
  },
  {
   "cell_type": "markdown",
   "metadata": {},
   "source": [
    "In most online _machine learning_ classes you are taught that when your data set is **incomplete** you can either:\n",
    "1. Erase the corresponding rows with missing cells; or\n",
    "2. _Impute_ (fill) the sample average of each column into those missing cells.\n",
    "\n",
    "It turns out that the second option would require stronger assumptions than the first. If the observations are **missing completely at random** and your sample is i.i.d., the first option is harmless for large data sets."
   ]
  },
  {
   "cell_type": "markdown",
   "metadata": {},
   "source": [
    "## Encoding [Categorical Variables](https://en.wikipedia.org/wiki/Categorical_variable)"
   ]
  },
  {
   "cell_type": "markdown",
   "metadata": {},
   "source": [
    "💻 Consider the ```hprice3``` data set from the ```wooldridge``` package:"
   ]
  },
  {
   "cell_type": "code",
   "execution_count": 1,
   "metadata": {},
   "outputs": [
    {
     "name": "stderr",
     "output_type": "stream",
     "text": [
      "Loading required package: wooldridge\n"
     ]
    }
   ],
   "source": [
    "## installing the 'wooldridge' package if not previously installed\n",
    "if (!require(wooldridge)) install.packages('wooldridge')\n",
    "\n",
    "data(hprice3)\n",
    "\n",
    "## Obs:   321\n",
    "\n",
    "##  1. year                     1978, 1981\n",
    "##  2. age                      age of house\n",
    "##  3. agesq                    age^2\n",
    "##  4. nbh                      neighborhood, 1 to 6\n",
    "##  5. cbd                      dist. to central bus. dstrct, feet\n",
    "##  6. inst                     dist. to interstate, feet\n",
    "##  7. linst                    log(inst)\n",
    "##  8. price                    selling price\n",
    "##  9. rooms                    # rooms in house\n",
    "## 10. area                     square footage of house\n",
    "## 11. land                     square footage lot\n",
    "## 12. baths                    # bathrooms\n",
    "## 13. dist                     dist. from house to incin., feet\n",
    "## 14. ldist                    log(dist)\n",
    "## 15. lprice                   log(price)\n",
    "## 16. y81                      =1 if year = 1981\n",
    "## 17. larea                    log(area)\n",
    "## 18. lland                    log(land)\n",
    "## 19. linstsq                  linst^2"
   ]
  },
  {
   "cell_type": "markdown",
   "metadata": {},
   "source": [
    "💻 Variables ```y81```, ```rooms```, and ```nbh``` are examples of <ins>categorical</ins> variables. In Econometrics, ```y81``` is called a standard dummy variable, ```rooms``` is called an _ordered_ categorical variable, ```hbh``` is called an _unordered_ categorical variable. Both ```rooms``` and ```nbh``` have _multiple_ categories. The fucntion ```as.factor()``` with option ```ordered=TRUE``` and ```ordered=FALSE``` (default) will allow us to handle them accordingly in all analysis."
   ]
  },
  {
   "cell_type": "code",
   "execution_count": null,
   "metadata": {},
   "outputs": [],
   "source": [
    "## without using the 'as.factor' function\n",
    "attach(hprice3)\n",
    "no.factor <- data.frame(y81=y81,rooms=rooms,nbh=nbh)\n",
    "summary(no.factor)\n",
    "detach(hprice3)\n",
    "\n",
    "## using the 'as.factor' function\n",
    "attach(hprice3)\n",
    "yes.factor <- data.frame(y81=factor(y81),\n",
    "                         rooms=factor(rooms,ordered=TRUE),\n",
    "                         nbh=factor(nbh,ordered=FALSE)\n",
    "                         )\n",
    "summary(yes.factor)\n",
    "detach(hprice3)"
   ]
  },
  {
   "cell_type": "markdown",
   "metadata": {},
   "source": [
    "💻 The default behavior in regression is to transformed ordered and unordered categorical variable with multiple categories into a set of $c-1$ dummy variables and include them as regressors, where $c$ represents the number of categories."
   ]
  },
  {
   "cell_type": "code",
   "execution_count": null,
   "metadata": {},
   "outputs": [],
   "source": [
    "ols <- lm(lprice ~ lland + larea + I(log(cbd)) +\n",
    "                   as.factor(y81) + as.factor(rooms) + as.factor(nbh) +\n",
    "                   linst + linstsq + ldist + baths + age + agesq,\n",
    "          data=hprice3)\n",
    "\n",
    "## installing the 'lmtest', 'sandwich' packages if not previously installed\n",
    "## installing the 'lmtest' package if not previously installed\n",
    "if (!require(lmtest)) install.packages('lmtest')\n",
    "if (!require(sandwich)) install.packages('sandwich')\n",
    "\n",
    "## turning 'off' scientific notation\n",
    "options(scipen = 999) \n",
    "\n",
    "## calculating standard t-statistics for 'significance'\n",
    "coeftest(ols, vcov = vcovHC, type = \"HC1\")"
   ]
  },
  {
   "cell_type": "markdown",
   "metadata": {},
   "source": [
    "💻 In many machine learning algorithms you are required to provide the design (model) matrix, $\\mathbf{X}$ (*without* and intercept), and response vector, $\\mathbf{y}$."
   ]
  },
  {
   "cell_type": "code",
   "execution_count": null,
   "metadata": {},
   "outputs": [],
   "source": [
    "X <- model.matrix(ols)[,-1]\n",
    "dim(X)\n",
    "colnames(X)"
   ]
  },
  {
   "cell_type": "markdown",
   "metadata": {},
   "source": [
    "📌 It is good practice to define categorical variables _outside_ the model formula/fitting. When doing this, one can easily change the 'base' category using the ```relevel()``` function along with the ```within()``` function."
   ]
  },
  {
   "cell_type": "markdown",
   "metadata": {},
   "source": [
    "## Including [Interaction Terms](https://en.wikipedia.org/wiki/Interaction_(statistics) )"
   ]
  },
  {
   "cell_type": "markdown",
   "metadata": {},
   "source": [
    "In the previously fitted model we included ```linstsq``` and ```agesq``` as predictors. These correspond to the squared of the original predictors ```linst``` and ```age```. In economics we include such predictors to account for increasing/decreasing returns to scale in modelling. Since $\\texttt{linst}^2=\\texttt{linst}\\times\\texttt{linst}$ and $\\texttt{age}^2=\\texttt{age}\\times\\texttt{age}$, one can think of them as a specific type of interaction terms (products with themselves)."
   ]
  },
  {
   "cell_type": "markdown",
   "metadata": {},
   "source": [
    "<ins>Example</ins>: Consider the following version of the previously estimated model\n",
    "\n",
    "$$\n",
    "\\begin{align*}\n",
    "\\texttt{lprice}&=\\beta_0+\\beta_1\\texttt{lland}+\\beta_2\\texttt{larea}+ \\beta_3\\texttt{linst}+\\beta_4\\texttt{age}\\\\\n",
    "               & + \\beta_5\\texttt{linst}\\times\\texttt{age}+\\beta_6\\texttt{linst}^2+\\beta_7\\texttt{age}^2+e\n",
    "\\end{align*}\n",
    "$$"
   ]
  },
  {
   "cell_type": "code",
   "execution_count": 20,
   "metadata": {},
   "outputs": [
    {
     "data": {
      "text/html": [
       "<dl class=dl-horizontal>\n",
       "\t<dt>(Intercept)</dt>\n",
       "\t\t<dd>2.25472</dd>\n",
       "\t<dt>lland</dt>\n",
       "\t\t<dd>0.10212</dd>\n",
       "\t<dt>larea</dt>\n",
       "\t\t<dd>0.63839</dd>\n",
       "\t<dt>linst</dt>\n",
       "\t\t<dd>0.85279</dd>\n",
       "\t<dt>age</dt>\n",
       "\t\t<dd>-0.01741</dd>\n",
       "\t<dt>I(linst * age)</dt>\n",
       "\t\t<dd>0.00074</dd>\n",
       "\t<dt>linstsq</dt>\n",
       "\t\t<dd>-0.05226</dd>\n",
       "\t<dt>agesq</dt>\n",
       "\t\t<dd>0.00004</dd>\n",
       "</dl>\n"
      ],
      "text/latex": [
       "\\begin{description*}\n",
       "\\item[(Intercept)] 2.25472\n",
       "\\item[lland] 0.10212\n",
       "\\item[larea] 0.63839\n",
       "\\item[linst] 0.85279\n",
       "\\item[age] -0.01741\n",
       "\\item[I(linst * age)] 0.00074\n",
       "\\item[linstsq] -0.05226\n",
       "\\item[agesq] 0.00004\n",
       "\\end{description*}\n"
      ],
      "text/markdown": [
       "(Intercept)\n",
       ":   2.25472lland\n",
       ":   0.10212larea\n",
       ":   0.63839linst\n",
       ":   0.85279age\n",
       ":   -0.01741I(linst * age)\n",
       ":   0.00074linstsq\n",
       ":   -0.05226agesq\n",
       ":   0.00004\n",
       "\n"
      ],
      "text/plain": [
       "   (Intercept)          lland          larea          linst            age \n",
       "       2.25472        0.10212        0.63839        0.85279       -0.01741 \n",
       "I(linst * age)        linstsq          agesq \n",
       "       0.00074       -0.05226        0.00004 "
      ]
     },
     "metadata": {},
     "output_type": "display_data"
    }
   ],
   "source": [
    "## OLS: estimating this new model\n",
    "ols.0 <- lm(lprice ~ lland + larea + linst + age\n",
    "                     + I(linst*age) + linstsq + agesq,\n",
    "          data=hprice3)\n",
    "round(coef(ols.0),5)"
   ]
  },
  {
   "cell_type": "markdown",
   "metadata": {},
   "source": [
    "By defining $\\mathbf{x}=[\\texttt{lland},\\texttt{larea},\\texttt{linst},\\texttt{age}]^\\prime$, and Assumption MLR.4, one has\n",
    "\n",
    "$$\n",
    "\\frac{\\partial E[\\texttt{lprince}|\\mathbf{x}]}{\\partial \\texttt{linst}}=\\beta_3+\\beta_5\\texttt{age}+2\\beta_6\\texttt{linst}.\n",
    "$$\n",
    "\n",
    "Then $\\beta_3$ represents the average price elasticty with respect to the distance from the highway for a home that is brand new ($\\texttt{age}=0$) and that is located 1 feet away from the highway ($\\texttt{linst}=\\log(\\texttt{inst})=0$, i.e., $\\texttt{inst}=1$)."
   ]
  },
  {
   "cell_type": "markdown",
   "metadata": {},
   "source": [
    "💻 Calculating the summary statistics for variables ```age``` and ```inst``` in the data set."
   ]
  },
  {
   "cell_type": "code",
   "execution_count": 21,
   "metadata": {},
   "outputs": [
    {
     "name": "stdout",
     "output_type": "stream",
     "text": [
      "      age           inst           linst      \n",
      " Min.   :  0   Min.   : 1000   Min.   : 6.91  \n",
      " 1st Qu.:  0   1st Qu.: 9000   1st Qu.: 9.11  \n",
      " Median :  4   Median :16000   Median : 9.68  \n",
      " Mean   : 18   Mean   :16442   Mean   : 9.48  \n",
      " 3rd Qu.: 22   3rd Qu.:24000   3rd Qu.:10.09  \n",
      " Max.   :189   Max.   :34000   Max.   :10.43  \n"
     ]
    }
   ],
   "source": [
    "## printing summary statistics for 'age' and 'inst'\n",
    "print(summary(subset(hprice3,select=c(\"age\",\"inst\",\"linst\"))))"
   ]
  },
  {
   "cell_type": "markdown",
   "metadata": {},
   "source": [
    "Now consider the following alternative specification\n",
    "\n",
    "$$\n",
    "\\begin{align*}\n",
    "\\texttt{lprice}&=\\delta_0+\\beta_1\\texttt{lland}+\\beta_2\\texttt{larea}+ \\delta_3\\texttt{linst}+\\delta_4\\texttt{age}\\\\\n",
    "               & + \\beta_5[\\texttt{linst}-\\mu_{\\texttt{linst}}]\\times[\\texttt{age}-\\mu_{\\texttt{age}}]+\\beta_6[\\texttt{linst}-\\mu_{\\texttt{linst}}]^2+\\beta_7[\\texttt{age}-\\mu_{\\texttt{age}}]^2+e.\n",
    "\\end{align*}\n",
    "$$\n",
    "\n",
    "In this case\n",
    "\n",
    "$$\n",
    "\\frac{\\partial E[\\texttt{lprince}|\\mathbf{x}]}{\\partial \\texttt{linst}}=\\delta_3+\\beta_5[\\texttt{age}-\\mu_{\\texttt{age}}]+2\\beta_6[\\texttt{linst}-\\mu_{\\texttt{linst}}].\n",
    "$$\n",
    "\n",
    "Then $\\delta_3$ represents the average price elasticty with respect to the distance from the highway for a home that is 18 years old ($\\widehat{\\mu}_{\\texttt{age}}\\approx 18.01$) and that is located 13,095.1865 feet away from the highway ($\\exp{(\\widehat{\\mu}_{\\texttt{linst}})}=\\exp{(9.48)}\\approx 13,095.1865)$."
   ]
  },
  {
   "cell_type": "code",
   "execution_count": 19,
   "metadata": {},
   "outputs": [
    {
     "data": {
      "text/html": [
       "<table>\n",
       "<caption>A data.frame: 8 × 2</caption>\n",
       "<thead>\n",
       "\t<tr><th></th><th scope=col>ols.0</th><th scope=col>ols.1</th></tr>\n",
       "\t<tr><th></th><th scope=col>&lt;dbl&gt;</th><th scope=col>&lt;dbl&gt;</th></tr>\n",
       "</thead>\n",
       "<tbody>\n",
       "\t<tr><th scope=row>(Intercept)</th><td> 2.25472</td><td> 6.81155</td></tr>\n",
       "\t<tr><th scope=row>lland</th><td> 0.10212</td><td> 0.10212</td></tr>\n",
       "\t<tr><th scope=row>larea</th><td> 0.63839</td><td> 0.63839</td></tr>\n",
       "\t<tr><th scope=row>linst</th><td> 0.85279</td><td>-0.12482</td></tr>\n",
       "\t<tr><th scope=row>age</th><td>-0.01741</td><td>-0.00882</td></tr>\n",
       "\t<tr><th scope=row>I(linst * age)</th><td> 0.00074</td><td> 0.00074</td></tr>\n",
       "\t<tr><th scope=row>linstsq</th><td>-0.05226</td><td>-0.05226</td></tr>\n",
       "\t<tr><th scope=row>agesq</th><td> 0.00004</td><td> 0.00004</td></tr>\n",
       "</tbody>\n",
       "</table>\n"
      ],
      "text/latex": [
       "A data.frame: 8 × 2\n",
       "\\begin{tabular}{r|ll}\n",
       "  & ols.0 & ols.1\\\\\n",
       "  & <dbl> & <dbl>\\\\\n",
       "\\hline\n",
       "\t(Intercept) &  2.25472 &  6.81155\\\\\n",
       "\tlland &  0.10212 &  0.10212\\\\\n",
       "\tlarea &  0.63839 &  0.63839\\\\\n",
       "\tlinst &  0.85279 & -0.12482\\\\\n",
       "\tage & -0.01741 & -0.00882\\\\\n",
       "\tI(linst * age) &  0.00074 &  0.00074\\\\\n",
       "\tlinstsq & -0.05226 & -0.05226\\\\\n",
       "\tagesq &  0.00004 &  0.00004\\\\\n",
       "\\end{tabular}\n"
      ],
      "text/markdown": [
       "\n",
       "A data.frame: 8 × 2\n",
       "\n",
       "| <!--/--> | ols.0 &lt;dbl&gt; | ols.1 &lt;dbl&gt; |\n",
       "|---|---|---|\n",
       "| (Intercept) |  2.25472 |  6.81155 |\n",
       "| lland |  0.10212 |  0.10212 |\n",
       "| larea |  0.63839 |  0.63839 |\n",
       "| linst |  0.85279 | -0.12482 |\n",
       "| age | -0.01741 | -0.00882 |\n",
       "| I(linst * age) |  0.00074 |  0.00074 |\n",
       "| linstsq | -0.05226 | -0.05226 |\n",
       "| agesq |  0.00004 |  0.00004 |\n",
       "\n"
      ],
      "text/plain": [
       "               ols.0    ols.1   \n",
       "(Intercept)     2.25472  6.81155\n",
       "lland           0.10212  0.10212\n",
       "larea           0.63839  0.63839\n",
       "linst           0.85279 -0.12482\n",
       "age            -0.01741 -0.00882\n",
       "I(linst * age)  0.00074  0.00074\n",
       "linstsq        -0.05226 -0.05226\n",
       "agesq           0.00004  0.00004"
      ]
     },
     "metadata": {},
     "output_type": "display_data"
    }
   ],
   "source": [
    "## OLS: estimating this new 'version' model\n",
    "ols.1 <- lm(lprice ~ lland + larea + linst + age\n",
    "                     + I((linst-mean(linst))*(age-mean(age)))\n",
    "                     + I((linst-mean(linst))^2) + I((age-mean(age))^2),\n",
    "          data=hprice3)\n",
    "\n",
    "## printing ols results up to 5 decimals\n",
    "round(data.frame(ols.0=coef(ols.0),ols.1=coef(ols.1)),5)"
   ]
  },
  {
   "cell_type": "markdown",
   "metadata": {},
   "source": [
    "⁉️ Is it a coincidence that some of the estimates are the same in both specifications? provide an algebraic explanation."
   ]
  },
  {
   "cell_type": "code",
   "execution_count": null,
   "metadata": {},
   "outputs": [],
   "source": []
  }
 ],
 "metadata": {
  "hide_input": false,
  "kernelspec": {
   "display_name": "R",
   "language": "R",
   "name": "ir"
  },
  "language_info": {
   "codemirror_mode": "r",
   "file_extension": ".r",
   "mimetype": "text/x-r-source",
   "name": "R",
   "pygments_lexer": "r",
   "version": "3.6.1"
  }
 },
 "nbformat": 4,
 "nbformat_minor": 2
}
