{
 "cells": [
  {
   "cell_type": "markdown",
   "metadata": {},
   "source": [
    "# Model Selection"
   ]
  },
  {
   "cell_type": "markdown",
   "metadata": {},
   "source": [
    "\n",
    "\n",
    "Suppose that we have a $K\\times 1$ estimator $\\hat{\\boldsymbol{\\theta}}$ which has mean $\\boldsymbol{\\theta}$ and variance-covariance matrix $\\boldsymbol{V}$. An alternative feasible estimator is $\\tilde{\\boldsymbol{\\theta}}=\\boldsymbol{0}$. The latter may seem like a silly estimator, but it captures the feature that model selection typically takes the form of exclusion restrictions setting coefficients to 0. In this context we can compare the accuracy of the two estimators by their weighted mean-squared error (WMSE). For a given weight matrix $\\boldsymbol{W}$ define\n",
    "\n",
    "$$\n",
    "\\text{WMSE}(\\hat{\\boldsymbol{\\theta}})=\\text{tr}\\left(\\mathrm{E}\\left((\\hat{\\boldsymbol{\\theta}}-\\boldsymbol{\\theta})(\\boldsymbol{\\theta}-\\boldsymbol{\\theta})^{\\prime}\\right) \\boldsymbol{W}\\right)=\\mathrm{E}\\left((\\hat{\\boldsymbol{\\theta}}-\\boldsymbol{\\theta})^{\\prime} \\boldsymbol{W}(\\hat{\\boldsymbol{\\theta}}-\\boldsymbol{\\theta})\\right).\n",
    "$$"
   ]
  },
  {
   "cell_type": "code",
   "execution_count": null,
   "metadata": {},
   "outputs": [],
   "source": []
  }
 ],
 "metadata": {
  "kernelspec": {
   "display_name": "R",
   "language": "R",
   "name": "ir"
  },
  "language_info": {
   "codemirror_mode": "r",
   "file_extension": ".r",
   "mimetype": "text/x-r-source",
   "name": "R",
   "pygments_lexer": "r",
   "version": "3.6.1"
  }
 },
 "nbformat": 4,
 "nbformat_minor": 2
}
