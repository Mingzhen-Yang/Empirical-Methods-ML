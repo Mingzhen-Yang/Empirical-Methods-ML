{
 "cells": [
  {
   "cell_type": "markdown",
   "metadata": {},
   "source": [
    "# Model Selection"
   ]
  },
  {
   "cell_type": "markdown",
   "metadata": {},
   "source": [
    "\n",
    "\n",
    "Suppose that we have a $K\\times 1$ estimator $\\hat{\\boldsymbol{\\theta}}$ which has mean $\\boldsymbol{\\theta}$ and variance-covariance matrix $\\boldsymbol{V}$. An alternative feasible estimator is $\\tilde{\\boldsymbol{\\theta}}=\\boldsymbol{0}$. The latter may seem like a silly estimator, but it captures the feature that model selection typically takes the form of exclusion restrictions setting coefficients to 0. In this context we can compare the accuracy of the two estimators by their weighted mean-squared error (WMSE). For a given weight matrix $\\boldsymbol{W}$ define\n",
    "\n",
    "$$\n",
    "\\text{WMSE}(\\hat{\\boldsymbol{\\theta}})=\\text{tr}\\left(\\mathrm{E}\\left((\\hat{\\boldsymbol{\\theta}}-\\boldsymbol{\\theta})(\\boldsymbol{\\theta}-\\boldsymbol{\\theta})^{\\prime}\\right) \\boldsymbol{W}\\right)=\\mathrm{E}\\left((\\hat{\\boldsymbol{\\theta}}-\\boldsymbol{\\theta})^{\\prime} \\boldsymbol{W}(\\hat{\\boldsymbol{\\theta}}-\\boldsymbol{\\theta})\\right).\n",
    "$$\n",
    "\n",
    "The calculations simplify by setting $\\boldsymbol{W}=\\boldsymbol{V}^{-1},$ which we do for our remaining calculations."
   ]
  },
  {
   "cell_type": "markdown",
   "metadata": {},
   "source": [
    "For our two estimators we calculate that\n",
    "$$\n",
    "\\begin{array}{l}{\\text { WMSE }(\\widehat{\\boldsymbol{\\theta}})=K} \\\\ {\\text {WMSE }(\\tilde{\\boldsymbol{\\theta}})=\\boldsymbol{\\theta}^{\\prime} \\boldsymbol{V}^{-1} \\boldsymbol{\\theta} \\stackrel{\\text {def}}{=} \\lambda.}\\end{array}\n",
    "$$\n",
    "\n",
    "The WMSE of $\\widehat{\\boldsymbol{\\theta}}$ is smaller if $K>\\lambda$ and the WMSE of $\\tilde{\\boldsymbol{\\theta}}$ is smaller if $K<\\lambda$. One insight from this simple analysis is that we should prefer smaller (simpler) models when potentially omitted variables have small coefficients relative to estimation variance, and should prefer larger (more complicated) models when\n",
    "these variables have large coefficients relative to estimation variance."
   ]
  },
  {
   "cell_type": "markdown",
   "metadata": {},
   "source": [
    "Now consider a somewhat broader comparison. Suppose $\\hat{\\boldsymbol{\\theta}}$ is $\\overline{K} \\times 1$ with mean $\\boldsymbol{\\theta}$ and variance matrix $V$. For some $\\bar{K} \\times(\\bar{K}-K)$ full-rank matrix $\\boldsymbol{R}$ consider\n",
    "\n",
    "$$\n",
    "\\begin{aligned} \\text { WMSE }(\\tilde{\\boldsymbol{\\theta}}) &=E\\left((\\tilde{\\boldsymbol{\\theta}}-\\boldsymbol{\\theta})^{\\prime} \\boldsymbol{V}^{-1}(\\tilde{\\boldsymbol{\\theta}}-\\boldsymbol{\\theta})\\right) \\\\ &=\\boldsymbol{\\theta}^{\\prime} \\boldsymbol{R}\\left(\\boldsymbol{R}^{\\prime} \\boldsymbol{V} \\boldsymbol{R}\\right)^{-1} \\boldsymbol{R}^{\\prime} \\boldsymbol{\\theta}+K \\end{aligned}\n",
    "$$\n",
    "\n",
    "The first term is the squared bias, the second is the weighted variance. This simple expression illustrates the basic bias-variance trade-off. Increasing $K$ increases the estimation variance but decreases the squared bias, the latter by decreasing the rank of $R$."
   ]
  },
  {
   "cell_type": "markdown",
   "metadata": {},
   "source": [
    "The bias can be estimated by replacing $\\hat{\\boldsymbol{\\theta}}$ with $\\boldsymbol{\\theta}$. This squared bias estimate is biased since\n",
    "\n",
    "$$\n",
    "E\\left[\\left(\\hat{\\boldsymbol{\\theta}}^{\\prime} \\boldsymbol{R}\\left(\\boldsymbol{R}^{\\prime} \\boldsymbol{V} \\boldsymbol{R}\\right)^{-1} \\boldsymbol{R}^{\\prime} \\widehat{\\boldsymbol{\\theta}}\\right)=\\boldsymbol{\\theta}^{\\prime} \\boldsymbol{R}\\left(\\boldsymbol{R}^{\\prime} \\boldsymbol{V} \\boldsymbol{R}\\right)^{-1} \\boldsymbol{R}^{\\prime} \\boldsymbol{\\theta}+\\bar{K}-K\\right.\n",
    "$$"
   ]
  },
  {
   "cell_type": "code",
   "execution_count": null,
   "metadata": {},
   "outputs": [],
   "source": []
  }
 ],
 "metadata": {
  "kernelspec": {
   "display_name": "R",
   "language": "R",
   "name": "ir"
  },
  "language_info": {
   "codemirror_mode": "r",
   "file_extension": ".r",
   "mimetype": "text/x-r-source",
   "name": "R",
   "pygments_lexer": "r",
   "version": "3.6.1"
  }
 },
 "nbformat": 4,
 "nbformat_minor": 2
}
